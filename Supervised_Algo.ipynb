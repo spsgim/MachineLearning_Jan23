{
  "nbformat": 4,
  "nbformat_minor": 0,
  "metadata": {
    "colab": {
      "provenance": [],
      "collapsed_sections": [
        "KjPrUFfTsvFU",
        "U4J8qou4s47f"
      ],
      "authorship_tag": "ABX9TyNlu2Z7pmNllazveMSZBPEL",
      "include_colab_link": true
    },
    "kernelspec": {
      "name": "python3",
      "display_name": "Python 3"
    },
    "language_info": {
      "name": "python"
    }
  },
  "cells": [
    {
      "cell_type": "markdown",
      "metadata": {
        "id": "view-in-github",
        "colab_type": "text"
      },
      "source": [
        "<a href=\"https://colab.research.google.com/github/spsgim/MachineLearning_Jan23/blob/main/Supervised_Algo.ipynb\" target=\"_parent\"><img src=\"https://colab.research.google.com/assets/colab-badge.svg\" alt=\"Open In Colab\"/></a>"
      ]
    },
    {
      "cell_type": "markdown",
      "source": [
        "# k-Nearest Neighbours"
      ],
      "metadata": {
        "id": "KjPrUFfTsvFU"
      }
    },
    {
      "cell_type": "markdown",
      "source": [
        "- It's a non-parametric algo, thus, no weights are trained"
      ],
      "metadata": {
        "id": "X_xL7q7Us5DT"
      }
    },
    {
      "cell_type": "markdown",
      "source": [
        "- Training:\n",
        "  - stores the data\n",
        "  - time complexity O(1)\n",
        "  - space complexity O(n * d)\n",
        "\n",
        "- Prediction\n",
        "  - Calculate the distances of all the n points from $x_q$ (TC - O(n * d)\n",
        "  - Sort the distances O(n * log n)\n",
        "  - Pick the point O(k) ~ 0\n",
        "  - Thus, Time Complexity = O(n * d + n * logn)"
      ],
      "metadata": {
        "id": "nSrq3p1rs5Ab"
      }
    },
    {
      "cell_type": "markdown",
      "source": [
        "- k is small; results in overfitting due to outliers\n",
        "- k is very large; results in underfitting (majority votes will remains the same)"
      ],
      "metadata": {
        "id": "IdRpa3zTs493"
      }
    },
    {
      "cell_type": "markdown",
      "source": [
        "## Code Implementation"
      ],
      "metadata": {
        "id": "U4J8qou4s47f"
      }
    },
    {
      "cell_type": "code",
      "source": [
        "import pandas as pd\n",
        "import numpy as np\n",
        "import seaborn as sns\n",
        "import matplotlib.pyplot as plt"
      ],
      "metadata": {
        "id": "0UsaD5_vzpAH"
      },
      "execution_count": 1,
      "outputs": []
    },
    {
      "cell_type": "markdown",
      "source": [
        "### Bilnkit Case Study"
      ],
      "metadata": {
        "id": "SHiJKFt91H0Q"
      }
    },
    {
      "cell_type": "code",
      "source": [
        "df=pd.read_csv('https://gist.github.com/singhsidhukuldeep/cc3c9597bce35f5f242a921eb3361c75/raw/54227431f0dc8ac1c438f438e2174d181fdda330/blinkit_multiclass.csv')\n",
        "print(df.shape)\n",
        "df.head()"
      ],
      "metadata": {
        "colab": {
          "base_uri": "https://localhost:8080/",
          "height": 241
        },
        "id": "cMlQTGHWzo8w",
        "outputId": "4288ebb9-08f1-478c-e5fd-b0ff9b1616f1"
      },
      "execution_count": 2,
      "outputs": [
        {
          "output_type": "stream",
          "name": "stdout",
          "text": [
            "(440, 8)\n"
          ]
        },
        {
          "output_type": "execute_result",
          "data": {
            "text/plain": [
              "   Region  Fresh  Milk  Grocery  Frozen  Detergents_Paper  Delicassen  class\n",
              "0       3  12669  9656     7561     214              2674        1338      2\n",
              "1       3   7057  9810     9568    1762              3293        1776      2\n",
              "2       3   6353  8808     7684    2405              3516        7844      2\n",
              "3       3  13265  1196     4221    6404               507        1788      1\n",
              "4       3  22615  5410     7198    3915              1777        5185      1"
            ],
            "text/html": [
              "\n",
              "  <div id=\"df-38438129-4145-44b6-a1cb-10b8d7478ed8\" class=\"colab-df-container\">\n",
              "    <div>\n",
              "<style scoped>\n",
              "    .dataframe tbody tr th:only-of-type {\n",
              "        vertical-align: middle;\n",
              "    }\n",
              "\n",
              "    .dataframe tbody tr th {\n",
              "        vertical-align: top;\n",
              "    }\n",
              "\n",
              "    .dataframe thead th {\n",
              "        text-align: right;\n",
              "    }\n",
              "</style>\n",
              "<table border=\"1\" class=\"dataframe\">\n",
              "  <thead>\n",
              "    <tr style=\"text-align: right;\">\n",
              "      <th></th>\n",
              "      <th>Region</th>\n",
              "      <th>Fresh</th>\n",
              "      <th>Milk</th>\n",
              "      <th>Grocery</th>\n",
              "      <th>Frozen</th>\n",
              "      <th>Detergents_Paper</th>\n",
              "      <th>Delicassen</th>\n",
              "      <th>class</th>\n",
              "    </tr>\n",
              "  </thead>\n",
              "  <tbody>\n",
              "    <tr>\n",
              "      <th>0</th>\n",
              "      <td>3</td>\n",
              "      <td>12669</td>\n",
              "      <td>9656</td>\n",
              "      <td>7561</td>\n",
              "      <td>214</td>\n",
              "      <td>2674</td>\n",
              "      <td>1338</td>\n",
              "      <td>2</td>\n",
              "    </tr>\n",
              "    <tr>\n",
              "      <th>1</th>\n",
              "      <td>3</td>\n",
              "      <td>7057</td>\n",
              "      <td>9810</td>\n",
              "      <td>9568</td>\n",
              "      <td>1762</td>\n",
              "      <td>3293</td>\n",
              "      <td>1776</td>\n",
              "      <td>2</td>\n",
              "    </tr>\n",
              "    <tr>\n",
              "      <th>2</th>\n",
              "      <td>3</td>\n",
              "      <td>6353</td>\n",
              "      <td>8808</td>\n",
              "      <td>7684</td>\n",
              "      <td>2405</td>\n",
              "      <td>3516</td>\n",
              "      <td>7844</td>\n",
              "      <td>2</td>\n",
              "    </tr>\n",
              "    <tr>\n",
              "      <th>3</th>\n",
              "      <td>3</td>\n",
              "      <td>13265</td>\n",
              "      <td>1196</td>\n",
              "      <td>4221</td>\n",
              "      <td>6404</td>\n",
              "      <td>507</td>\n",
              "      <td>1788</td>\n",
              "      <td>1</td>\n",
              "    </tr>\n",
              "    <tr>\n",
              "      <th>4</th>\n",
              "      <td>3</td>\n",
              "      <td>22615</td>\n",
              "      <td>5410</td>\n",
              "      <td>7198</td>\n",
              "      <td>3915</td>\n",
              "      <td>1777</td>\n",
              "      <td>5185</td>\n",
              "      <td>1</td>\n",
              "    </tr>\n",
              "  </tbody>\n",
              "</table>\n",
              "</div>\n",
              "    <div class=\"colab-df-buttons\">\n",
              "\n",
              "  <div class=\"colab-df-container\">\n",
              "    <button class=\"colab-df-convert\" onclick=\"convertToInteractive('df-38438129-4145-44b6-a1cb-10b8d7478ed8')\"\n",
              "            title=\"Convert this dataframe to an interactive table.\"\n",
              "            style=\"display:none;\">\n",
              "\n",
              "  <svg xmlns=\"http://www.w3.org/2000/svg\" height=\"24px\" viewBox=\"0 -960 960 960\">\n",
              "    <path d=\"M120-120v-720h720v720H120Zm60-500h600v-160H180v160Zm220 220h160v-160H400v160Zm0 220h160v-160H400v160ZM180-400h160v-160H180v160Zm440 0h160v-160H620v160ZM180-180h160v-160H180v160Zm440 0h160v-160H620v160Z\"/>\n",
              "  </svg>\n",
              "    </button>\n",
              "\n",
              "  <style>\n",
              "    .colab-df-container {\n",
              "      display:flex;\n",
              "      gap: 12px;\n",
              "    }\n",
              "\n",
              "    .colab-df-convert {\n",
              "      background-color: #E8F0FE;\n",
              "      border: none;\n",
              "      border-radius: 50%;\n",
              "      cursor: pointer;\n",
              "      display: none;\n",
              "      fill: #1967D2;\n",
              "      height: 32px;\n",
              "      padding: 0 0 0 0;\n",
              "      width: 32px;\n",
              "    }\n",
              "\n",
              "    .colab-df-convert:hover {\n",
              "      background-color: #E2EBFA;\n",
              "      box-shadow: 0px 1px 2px rgba(60, 64, 67, 0.3), 0px 1px 3px 1px rgba(60, 64, 67, 0.15);\n",
              "      fill: #174EA6;\n",
              "    }\n",
              "\n",
              "    .colab-df-buttons div {\n",
              "      margin-bottom: 4px;\n",
              "    }\n",
              "\n",
              "    [theme=dark] .colab-df-convert {\n",
              "      background-color: #3B4455;\n",
              "      fill: #D2E3FC;\n",
              "    }\n",
              "\n",
              "    [theme=dark] .colab-df-convert:hover {\n",
              "      background-color: #434B5C;\n",
              "      box-shadow: 0px 1px 3px 1px rgba(0, 0, 0, 0.15);\n",
              "      filter: drop-shadow(0px 1px 2px rgba(0, 0, 0, 0.3));\n",
              "      fill: #FFFFFF;\n",
              "    }\n",
              "  </style>\n",
              "\n",
              "    <script>\n",
              "      const buttonEl =\n",
              "        document.querySelector('#df-38438129-4145-44b6-a1cb-10b8d7478ed8 button.colab-df-convert');\n",
              "      buttonEl.style.display =\n",
              "        google.colab.kernel.accessAllowed ? 'block' : 'none';\n",
              "\n",
              "      async function convertToInteractive(key) {\n",
              "        const element = document.querySelector('#df-38438129-4145-44b6-a1cb-10b8d7478ed8');\n",
              "        const dataTable =\n",
              "          await google.colab.kernel.invokeFunction('convertToInteractive',\n",
              "                                                    [key], {});\n",
              "        if (!dataTable) return;\n",
              "\n",
              "        const docLinkHtml = 'Like what you see? Visit the ' +\n",
              "          '<a target=\"_blank\" href=https://colab.research.google.com/notebooks/data_table.ipynb>data table notebook</a>'\n",
              "          + ' to learn more about interactive tables.';\n",
              "        element.innerHTML = '';\n",
              "        dataTable['output_type'] = 'display_data';\n",
              "        await google.colab.output.renderOutput(dataTable, element);\n",
              "        const docLink = document.createElement('div');\n",
              "        docLink.innerHTML = docLinkHtml;\n",
              "        element.appendChild(docLink);\n",
              "      }\n",
              "    </script>\n",
              "  </div>\n",
              "\n",
              "\n",
              "<div id=\"df-e3d6bd73-b6f7-43df-8319-28a230b393ad\">\n",
              "  <button class=\"colab-df-quickchart\" onclick=\"quickchart('df-e3d6bd73-b6f7-43df-8319-28a230b393ad')\"\n",
              "            title=\"Suggest charts\"\n",
              "            style=\"display:none;\">\n",
              "\n",
              "<svg xmlns=\"http://www.w3.org/2000/svg\" height=\"24px\"viewBox=\"0 0 24 24\"\n",
              "     width=\"24px\">\n",
              "    <g>\n",
              "        <path d=\"M19 3H5c-1.1 0-2 .9-2 2v14c0 1.1.9 2 2 2h14c1.1 0 2-.9 2-2V5c0-1.1-.9-2-2-2zM9 17H7v-7h2v7zm4 0h-2V7h2v10zm4 0h-2v-4h2v4z\"/>\n",
              "    </g>\n",
              "</svg>\n",
              "  </button>\n",
              "\n",
              "<style>\n",
              "  .colab-df-quickchart {\n",
              "      --bg-color: #E8F0FE;\n",
              "      --fill-color: #1967D2;\n",
              "      --hover-bg-color: #E2EBFA;\n",
              "      --hover-fill-color: #174EA6;\n",
              "      --disabled-fill-color: #AAA;\n",
              "      --disabled-bg-color: #DDD;\n",
              "  }\n",
              "\n",
              "  [theme=dark] .colab-df-quickchart {\n",
              "      --bg-color: #3B4455;\n",
              "      --fill-color: #D2E3FC;\n",
              "      --hover-bg-color: #434B5C;\n",
              "      --hover-fill-color: #FFFFFF;\n",
              "      --disabled-bg-color: #3B4455;\n",
              "      --disabled-fill-color: #666;\n",
              "  }\n",
              "\n",
              "  .colab-df-quickchart {\n",
              "    background-color: var(--bg-color);\n",
              "    border: none;\n",
              "    border-radius: 50%;\n",
              "    cursor: pointer;\n",
              "    display: none;\n",
              "    fill: var(--fill-color);\n",
              "    height: 32px;\n",
              "    padding: 0;\n",
              "    width: 32px;\n",
              "  }\n",
              "\n",
              "  .colab-df-quickchart:hover {\n",
              "    background-color: var(--hover-bg-color);\n",
              "    box-shadow: 0 1px 2px rgba(60, 64, 67, 0.3), 0 1px 3px 1px rgba(60, 64, 67, 0.15);\n",
              "    fill: var(--button-hover-fill-color);\n",
              "  }\n",
              "\n",
              "  .colab-df-quickchart-complete:disabled,\n",
              "  .colab-df-quickchart-complete:disabled:hover {\n",
              "    background-color: var(--disabled-bg-color);\n",
              "    fill: var(--disabled-fill-color);\n",
              "    box-shadow: none;\n",
              "  }\n",
              "\n",
              "  .colab-df-spinner {\n",
              "    border: 2px solid var(--fill-color);\n",
              "    border-color: transparent;\n",
              "    border-bottom-color: var(--fill-color);\n",
              "    animation:\n",
              "      spin 1s steps(1) infinite;\n",
              "  }\n",
              "\n",
              "  @keyframes spin {\n",
              "    0% {\n",
              "      border-color: transparent;\n",
              "      border-bottom-color: var(--fill-color);\n",
              "      border-left-color: var(--fill-color);\n",
              "    }\n",
              "    20% {\n",
              "      border-color: transparent;\n",
              "      border-left-color: var(--fill-color);\n",
              "      border-top-color: var(--fill-color);\n",
              "    }\n",
              "    30% {\n",
              "      border-color: transparent;\n",
              "      border-left-color: var(--fill-color);\n",
              "      border-top-color: var(--fill-color);\n",
              "      border-right-color: var(--fill-color);\n",
              "    }\n",
              "    40% {\n",
              "      border-color: transparent;\n",
              "      border-right-color: var(--fill-color);\n",
              "      border-top-color: var(--fill-color);\n",
              "    }\n",
              "    60% {\n",
              "      border-color: transparent;\n",
              "      border-right-color: var(--fill-color);\n",
              "    }\n",
              "    80% {\n",
              "      border-color: transparent;\n",
              "      border-right-color: var(--fill-color);\n",
              "      border-bottom-color: var(--fill-color);\n",
              "    }\n",
              "    90% {\n",
              "      border-color: transparent;\n",
              "      border-bottom-color: var(--fill-color);\n",
              "    }\n",
              "  }\n",
              "</style>\n",
              "\n",
              "  <script>\n",
              "    async function quickchart(key) {\n",
              "      const quickchartButtonEl =\n",
              "        document.querySelector('#' + key + ' button');\n",
              "      quickchartButtonEl.disabled = true;  // To prevent multiple clicks.\n",
              "      quickchartButtonEl.classList.add('colab-df-spinner');\n",
              "      try {\n",
              "        const charts = await google.colab.kernel.invokeFunction(\n",
              "            'suggestCharts', [key], {});\n",
              "      } catch (error) {\n",
              "        console.error('Error during call to suggestCharts:', error);\n",
              "      }\n",
              "      quickchartButtonEl.classList.remove('colab-df-spinner');\n",
              "      quickchartButtonEl.classList.add('colab-df-quickchart-complete');\n",
              "    }\n",
              "    (() => {\n",
              "      let quickchartButtonEl =\n",
              "        document.querySelector('#df-e3d6bd73-b6f7-43df-8319-28a230b393ad button');\n",
              "      quickchartButtonEl.style.display =\n",
              "        google.colab.kernel.accessAllowed ? 'block' : 'none';\n",
              "    })();\n",
              "  </script>\n",
              "</div>\n",
              "\n",
              "    </div>\n",
              "  </div>\n"
            ]
          },
          "metadata": {},
          "execution_count": 2
        }
      ]
    },
    {
      "cell_type": "markdown",
      "source": [
        "**Data Description**\n",
        "\n",
        "|feature|Description|\n",
        "|-|-|\n",
        "|**Region**|where the store is located (1: Tier-1 city, 2: Tier-2 city, 3:Tier-3 city)|\n",
        "|**Fresh**|purchase history of Fresh food|\n",
        "|**Milk**|purchase history of milk product|\n",
        "|**Grocery**|purchase history of Grocery|\n",
        "|**Frozen**|purchase history of Frozen food|\n",
        "|**Detergents_Paper**|purchase history of washing products|\n",
        "|**Delicassen**|purchase history of imported products, cooked meat|\n",
        "|**class**|Store catgeory based on demand on products|"
      ],
      "metadata": {
        "id": "GI9HPOwm0irX"
      }
    },
    {
      "cell_type": "code",
      "source": [
        "sns.countplot(data=df, x=\"class\")"
      ],
      "metadata": {
        "colab": {
          "base_uri": "https://localhost:8080/",
          "height": 105
        },
        "id": "ew2hsQKyzo5J",
        "outputId": "8936e14d-74f3-4e93-fae7-c5b448e66f99"
      },
      "execution_count": 3,
      "outputs": [
        {
          "output_type": "execute_result",
          "data": {
            "text/plain": [
              "<Axes: xlabel='class', ylabel='count'>"
            ]
          },
          "metadata": {},
          "execution_count": 3
        },
        {
          "output_type": "display_data",
          "data": {
            "text/plain": [
              "<Figure size 640x480 with 1 Axes>"
            ],
            "image/png": "[encoded data removed]"
          },
          "metadata": {}
        }
      ]
    },
    {
      "cell_type": "code",
      "source": [
        "X=df[['Region',\t'Fresh',\t'Milk',\t'Grocery',\t'Frozen',\t'Detergents_Paper',\t'Delicassen']].copy()\n",
        "y=df[['class']].copy()"
      ],
      "metadata": {
        "id": "ANCgYwUKzo2U"
      },
      "execution_count": 4,
      "outputs": []
    },
    {
      "cell_type": "code",
      "source": [
        "## Performing PCA for visualisation\n",
        "from sklearn.decomposition import PCA\n",
        "\n",
        "# reducing features to just 2 features\n",
        "pca = PCA(n_components=2)\n",
        "print(X.shape)\n",
        "X = pca.fit_transform(X)\n",
        "print(X.shape)"
      ],
      "metadata": {
        "colab": {
          "base_uri": "https://localhost:8080/"
        },
        "id": "k3lzjm7-01T8",
        "outputId": "5a09ae79-19d4-4777-9008-d5915f687758"
      },
      "execution_count": 5,
      "outputs": [
        {
          "output_type": "stream",
          "name": "stdout",
          "text": [
            "(440, 7)\n",
            "(440, 2)\n"
          ]
        }
      ]
    },
    {
      "cell_type": "code",
      "source": [
        "df2 = pd.DataFrame(X, columns=['f1', 'f2'])\n",
        "df2['y'] = y\n",
        "\n",
        "sns.scatterplot(data= df2, x= 'f1',y = 'f2' , hue = 'y')\n",
        "plt.show()"
      ],
      "metadata": {
        "colab": {
          "base_uri": "https://localhost:8080/",
          "height": 54
        },
        "id": "YAa5Jl_A01Rm",
        "outputId": "f954ae10-a112-4ba3-ff42-3b8676ceca27"
      },
      "execution_count": 6,
      "outputs": [
        {
          "output_type": "display_data",
          "data": {
            "text/plain": [
              "<Figure size 640x480 with 1 Axes>"
            ],
            "image/png": "[encoded data removed]"
          },
          "metadata": {}
        }
      ]
    },
    {
      "cell_type": "markdown",
      "source": [
        "### kNN implementation"
      ],
      "metadata": {
        "id": "Exh4fYdh1x8t"
      }
    },
    {
      "cell_type": "code",
      "source": [
        "## train test split\n",
        "from sklearn.model_selection import train_test_split\n",
        "\n",
        "X_train_val, X_test, y_train_val, y_test = train_test_split(X, y.values[:,0], test_size=0.25, random_state=42)\n",
        "X_train, X_val, y_train, y_val = train_test_split(X_train_val, y_train_val,test_size=0.25, random_state=42)"
      ],
      "metadata": {
        "id": "IoD33cym01Ou"
      },
      "execution_count": 7,
      "outputs": []
    },
    {
      "cell_type": "code",
      "source": [
        "print(X_train.shape, y_train.shape)\n",
        "print(X_val.shape, y_val.shape)\n",
        "print(X_test.shape, y_test.shape)"
      ],
      "metadata": {
        "colab": {
          "base_uri": "https://localhost:8080/"
        },
        "id": "64dRbRiJ01MI",
        "outputId": "7332b6fb-b070-4772-a60e-81c41536aeab"
      },
      "execution_count": 8,
      "outputs": [
        {
          "output_type": "stream",
          "name": "stdout",
          "text": [
            "(247, 2) (247,)\n",
            "(83, 2) (83,)\n",
            "(110, 2) (110,)\n"
          ]
        }
      ]
    },
    {
      "cell_type": "code",
      "source": [
        "# standardisation\n",
        "mu = X_train.mean(axis=0)\n",
        "sig = X_train.std(axis=0)"
      ],
      "metadata": {
        "id": "YJ6SXL6e01Jp"
      },
      "execution_count": 9,
      "outputs": []
    },
    {
      "cell_type": "code",
      "source": [
        "X_train = (X_train-mu)/sig\n",
        "X_val = (X_val-mu)/sig\n",
        "X_test = (X_test-mu)/sig"
      ],
      "metadata": {
        "id": "KkIMVEK12vCo"
      },
      "execution_count": 10,
      "outputs": []
    },
    {
      "cell_type": "code",
      "source": [
        "X_test[:5]"
      ],
      "metadata": {
        "colab": {
          "base_uri": "https://localhost:8080/"
        },
        "id": "7tOQYtq72u6Q",
        "outputId": "b1a6c36d-f288-4efa-b6e9-449d711421c6"
      },
      "execution_count": 11,
      "outputs": [
        {
          "output_type": "execute_result",
          "data": {
            "text/plain": [
              "array([[-0.18618677,  1.25387695],\n",
              "       [-0.19811111, -0.6714474 ],\n",
              "       [ 1.29052858,  0.30099891],\n",
              "       [ 1.51969703, -0.95865342],\n",
              "       [-1.06117163, -0.61202286]])"
            ]
          },
          "metadata": {},
          "execution_count": 11
        }
      ]
    },
    {
      "cell_type": "code",
      "source": [
        "from sklearn.preprocessing import StandardScaler\n",
        "scaler = StandardScaler()\n",
        "X_train_scaled = scaler.fit_transform(X_train)\n",
        "X_test_scaled = scaler.transform(X_test)\n",
        "X_test_scaled[:5]"
      ],
      "metadata": {
        "colab": {
          "base_uri": "https://localhost:8080/"
        },
        "id": "UHh5UVE42uyo",
        "outputId": "6d2f116c-2517-4919-f23a-f4f67ccca0cd"
      },
      "execution_count": 12,
      "outputs": [
        {
          "output_type": "execute_result",
          "data": {
            "text/plain": [
              "array([[-0.18618677,  1.25387695],\n",
              "       [-0.19811111, -0.6714474 ],\n",
              "       [ 1.29052858,  0.30099891],\n",
              "       [ 1.51969703, -0.95865342],\n",
              "       [-1.06117163, -0.61202286]])"
            ]
          },
          "metadata": {},
          "execution_count": 12
        }
      ]
    },
    {
      "cell_type": "code",
      "source": [
        "## kNN from Scratch\n",
        "def euclidean_distance(x,xq):\n",
        "  '''\n",
        "  Calculate Euclidean Distance\n",
        "  x: np.array -> X_train\n",
        "  xq: np.array -> query_point\n",
        "  '''\n",
        "  import numpy as np\n",
        "  try:\n",
        "    if isinstance(x, np.ndarray) and isinstance(xq, np.ndarray):\n",
        "      return np.sqrt(np.sum((xq-x)**2,axis=1))\n",
        "    else:\n",
        "      print('Input is not numpy.ndarray')\n",
        "  except Exception as e:\n",
        "    print(str(e))\n",
        "\n",
        "def labels_sorted_distances(distances, labels):\n",
        "  '''\n",
        "  argsort the euclidean distances\n",
        "  dist: Distances\n",
        "  '''\n",
        "  ind = np.argsort(distances)\n",
        "  return labels[ind]\n",
        "\n",
        "def kNN(x,xq,labels,k=5):\n",
        "  '''\n",
        "  Calculate majority votes\n",
        "  x: np.array -> X_train\n",
        "  xq: np.array -> query_point\n",
        "  labels: np.array -> labels\n",
        "  k: hyperparameter (# nearest neighbours)\n",
        "  '''\n",
        "  distances = euclidean_distance(x,xq)\n",
        "  k_points = labels_sorted_distances(distances, labels)[:k]\n",
        "\n",
        "  class_counts=np.unique(k_points, return_counts= True)\n",
        "  majority_vote = class_counts[0][class_counts[1].argmax()]\n",
        "  return majority_vote"
      ],
      "metadata": {
        "id": "m9RlrQGQ3bT5"
      },
      "execution_count": 13,
      "outputs": []
    },
    {
      "cell_type": "code",
      "source": [
        "kNN(x=X_train_scaled, xq=X_val[50], labels=y_train, k=10)"
      ],
      "metadata": {
        "colab": {
          "base_uri": "https://localhost:8080/"
        },
        "id": "jxqMx8TU995P",
        "outputId": "54bae1e3-e2a8-4609-8f47-ab7072dfb415"
      },
      "execution_count": 14,
      "outputs": [
        {
          "output_type": "execute_result",
          "data": {
            "text/plain": [
              "3"
            ]
          },
          "metadata": {},
          "execution_count": 14
        }
      ]
    },
    {
      "cell_type": "code",
      "source": [
        "def accuracy(y_true, y_pred):\n",
        "  return np.mean(y_true == y_pred)"
      ],
      "metadata": {
        "id": "roUWWHbr-qfR"
      },
      "execution_count": 15,
      "outputs": []
    },
    {
      "cell_type": "code",
      "source": [
        "train_accuracy = []\n",
        "val_accuracy = []\n",
        "\n",
        "for k in range(1,11):\n",
        "  y_pred_train = np.zeros(len(X_train))\n",
        "  y_pred_val = np.zeros(len(X_val))\n",
        "\n",
        "  for i in range(X_train_scaled.shape[0]):\n",
        "    y_pred_train[i] = kNN(x = X_train_scaled, xq = X_train[i], labels = y_train, k=k)\n",
        "  for i in range(X_val.shape[0]):\n",
        "    y_pred_val[i] = kNN(x = X_train_scaled, xq = X_val[i], labels = y_train, k=k)\n",
        "\n",
        "  train_acc = accuracy(y_train, y_pred_train)\n",
        "  train_accuracy.append(train_acc)\n",
        "\n",
        "  val_acc = accuracy(y_val, y_pred_val)\n",
        "  val_accuracy.append(val_acc)\n",
        "  print('k=',k)\n",
        "  print('Train_Accuracy: %.3f' % train_acc)\n",
        "  print('Val_Accuracy: %.3f' % val_acc)\n",
        "  print('*'*50)\n"
      ],
      "metadata": {
        "colab": {
          "base_uri": "https://localhost:8080/"
        },
        "id": "431dMhGW_EyB",
        "outputId": "8b2f2710-5441-4645-c8d8-786c34dc1882"
      },
      "execution_count": 16,
      "outputs": [
        {
          "output_type": "stream",
          "name": "stdout",
          "text": [
            "k= 1\n",
            "Train_Accuracy: 1.000\n",
            "Val_Accuracy: 0.928\n",
            "**************************************************\n",
            "k= 2\n",
            "Train_Accuracy: 0.968\n",
            "Val_Accuracy: 0.904\n",
            "**************************************************\n",
            "k= 3\n",
            "Train_Accuracy: 0.972\n",
            "Val_Accuracy: 0.928\n",
            "**************************************************\n",
            "k= 4\n",
            "Train_Accuracy: 0.964\n",
            "Val_Accuracy: 0.928\n",
            "**************************************************\n",
            "k= 5\n",
            "Train_Accuracy: 0.972\n",
            "Val_Accuracy: 0.916\n",
            "**************************************************\n",
            "k= 6\n",
            "Train_Accuracy: 0.964\n",
            "Val_Accuracy: 0.940\n",
            "**************************************************\n",
            "k= 7\n",
            "Train_Accuracy: 0.964\n",
            "Val_Accuracy: 0.928\n",
            "**************************************************\n",
            "k= 8\n",
            "Train_Accuracy: 0.960\n",
            "Val_Accuracy: 0.940\n",
            "**************************************************\n",
            "k= 9\n",
            "Train_Accuracy: 0.960\n",
            "Val_Accuracy: 0.940\n",
            "**************************************************\n",
            "k= 10\n",
            "Train_Accuracy: 0.960\n",
            "Val_Accuracy: 0.940\n",
            "**************************************************\n"
          ]
        }
      ]
    },
    {
      "cell_type": "code",
      "source": [
        "from sklearn.neighbors import KNeighborsClassifier\n",
        "\n",
        "Acc_val = []\n",
        "Acc_train = []\n",
        "\n",
        "for i in range(1, 51):\n",
        "    knn = KNeighborsClassifier(n_neighbors=i,metric='euclidean')\n",
        "    knn.fit(X_train, y_train)\n",
        "\n",
        "    Acc_val.append(knn.score(X_val,y_val))\n",
        "    Acc_train.append(knn.score(X_train, y_train))\n",
        "\n",
        "plt.figure(figsize=(12, 6))\n",
        "plt.plot(range(1, 51), Acc_val, color='red', linestyle='dashed', marker='o',\n",
        "         markerfacecolor='blue', markersize=10, label=\"Val\")\n",
        "plt.plot(range(1, 51), Acc_train, label=\"Train\")\n",
        "plt.title('Accuracy of K Value')\n",
        "plt.legend()\n",
        "plt.xlabel('K Value')\n",
        "plt.ylabel('Accuracy')"
      ],
      "metadata": {
        "colab": {
          "base_uri": "https://localhost:8080/",
          "height": 105
        },
        "id": "M9dD2Yh1_qgx",
        "outputId": "7993852d-2580-4908-b039-cf916f8392bf"
      },
      "execution_count": 17,
      "outputs": [
        {
          "output_type": "execute_result",
          "data": {
            "text/plain": [
              "Text(0, 0.5, 'Accuracy')"
            ]
          },
          "metadata": {},
          "execution_count": 17
        },
        {
          "output_type": "display_data",
          "data": {
            "text/plain": [
              "<Figure size 1200x600 with 1 Axes>"
            ],
            "image/png": "[encoded data removed]"
          },
          "metadata": {}
        }
      ]
    },
    {
      "cell_type": "code",
      "source": [
        "best_k = 6\n",
        "\n",
        "# predictions\n",
        "y_pred = np.zeros(len(X_test))\n",
        "\n",
        "for i in range(X_test.shape[0]):\n",
        "  y_pred[i] = kNN(x=X_train_scaled, xq= X_test[i], labels= y_train, k= best_k)\n",
        "print(y_pred.shape)"
      ],
      "metadata": {
        "colab": {
          "base_uri": "https://localhost:8080/"
        },
        "id": "iAB0-2gq89FT",
        "outputId": "0a6d4d29-7886-430f-e6ed-516f26758db1"
      },
      "execution_count": 18,
      "outputs": [
        {
          "output_type": "stream",
          "name": "stdout",
          "text": [
            "(110,)\n"
          ]
        }
      ]
    },
    {
      "cell_type": "code",
      "source": [
        "print('Test Accuracy: %.6f'% accuracy(y_test, y_pred))"
      ],
      "metadata": {
        "colab": {
          "base_uri": "https://localhost:8080/"
        },
        "id": "70dFgOwZ886K",
        "outputId": "d02be974-98b5-4d9e-9e26-063ff0fbfe02"
      },
      "execution_count": 19,
      "outputs": [
        {
          "output_type": "stream",
          "name": "stdout",
          "text": [
            "Test Accuracy: 0.945455\n"
          ]
        }
      ]
    },
    {
      "cell_type": "code",
      "source": [
        "from sklearn.neighbors import KNeighborsClassifier\n",
        "knn = KNeighborsClassifier(n_neighbors=6,metric='euclidean')\n",
        "knn.fit(X_train_scaled, y_train)"
      ],
      "metadata": {
        "colab": {
          "base_uri": "https://localhost:8080/",
          "height": 94
        },
        "id": "CwK9wqy53bRJ",
        "outputId": "a0fce076-a21c-49a0-b50f-75e045fbab51"
      },
      "execution_count": 20,
      "outputs": [
        {
          "output_type": "execute_result",
          "data": {
            "text/plain": [
              "KNeighborsClassifier(metric='euclidean', n_neighbors=6)"
            ],
            "text/html": [
              "<style>#sk-container-id-1 {color: black;background-color: white;}#sk-container-id-1 pre{padding: 0;}#sk-container-id-1 div.sk-toggleable {background-color: white;}#sk-container-id-1 label.sk-toggleable__label {cursor: pointer;display: block;width: 100%;margin-bottom: 0;padding: 0.3em;box-sizing: border-box;text-align: center;}#sk-container-id-1 label.sk-toggleable__label-arrow:before {content: \"▸\";float: left;margin-right: 0.25em;color: #696969;}#sk-container-id-1 label.sk-toggleable__label-arrow:hover:before {color: black;}#sk-container-id-1 div.sk-estimator:hover label.sk-toggleable__label-arrow:before {color: black;}#sk-container-id-1 div.sk-toggleable__content {max-height: 0;max-width: 0;overflow: hidden;text-align: left;background-color: #f0f8ff;}#sk-container-id-1 div.sk-toggleable__content pre {margin: 0.2em;color: black;border-radius: 0.25em;background-color: #f0f8ff;}#sk-container-id-1 input.sk-toggleable__control:checked~div.sk-toggleable__content {max-height: 200px;max-width: 100%;overflow: auto;}#sk-container-id-1 input.sk-toggleable__control:checked~label.sk-toggleable__label-arrow:before {content: \"▾\";}#sk-container-id-1 div.sk-estimator input.sk-toggleable__control:checked~label.sk-toggleable__label {background-color: #d4ebff;}#sk-container-id-1 div.sk-label input.sk-toggleable__control:checked~label.sk-toggleable__label {background-color: #d4ebff;}#sk-container-id-1 input.sk-hidden--visually {border: 0;clip: rect(1px 1px 1px 1px);clip: rect(1px, 1px, 1px, 1px);height: 1px;margin: -1px;overflow: hidden;padding: 0;position: absolute;width: 1px;}#sk-container-id-1 div.sk-estimator {font-family: monospace;background-color: #f0f8ff;border: 1px dotted black;border-radius: 0.25em;box-sizing: border-box;margin-bottom: 0.5em;}#sk-container-id-1 div.sk-estimator:hover {background-color: #d4ebff;}#sk-container-id-1 div.sk-parallel-item::after {content: \"\";width: 100%;border-bottom: 1px solid gray;flex-grow: 1;}#sk-container-id-1 div.sk-label:hover label.sk-toggleable__label {background-color: #d4ebff;}#sk-container-id-1 div.sk-serial::before {content: \"\";position: absolute;border-left: 1px solid gray;box-sizing: border-box;top: 0;bottom: 0;left: 50%;z-index: 0;}#sk-container-id-1 div.sk-serial {display: flex;flex-direction: column;align-items: center;background-color: white;padding-right: 0.2em;padding-left: 0.2em;position: relative;}#sk-container-id-1 div.sk-item {position: relative;z-index: 1;}#sk-container-id-1 div.sk-parallel {display: flex;align-items: stretch;justify-content: center;background-color: white;position: relative;}#sk-container-id-1 div.sk-item::before, #sk-container-id-1 div.sk-parallel-item::before {content: \"\";position: absolute;border-left: 1px solid gray;box-sizing: border-box;top: 0;bottom: 0;left: 50%;z-index: -1;}#sk-container-id-1 div.sk-parallel-item {display: flex;flex-direction: column;z-index: 1;position: relative;background-color: white;}#sk-container-id-1 div.sk-parallel-item:first-child::after {align-self: flex-end;width: 50%;}#sk-container-id-1 div.sk-parallel-item:last-child::after {align-self: flex-start;width: 50%;}#sk-container-id-1 div.sk-parallel-item:only-child::after {width: 0;}#sk-container-id-1 div.sk-dashed-wrapped {border: 1px dashed gray;margin: 0 0.4em 0.5em 0.4em;box-sizing: border-box;padding-bottom: 0.4em;background-color: white;}#sk-container-id-1 div.sk-label label {font-family: monospace;font-weight: bold;display: inline-block;line-height: 1.2em;}#sk-container-id-1 div.sk-label-container {text-align: center;}#sk-container-id-1 div.sk-container {/* jupyter's `normalize.less` sets `[hidden] { display: none; }` but bootstrap.min.css set `[hidden] { display: none !important; }` so we also need the `!important` here to be able to override the default hidden behavior on the sphinx rendered scikit-learn.org. See: https://github.com/scikit-learn/scikit-learn/issues/21755 */display: inline-block !important;position: relative;}#sk-container-id-1 div.sk-text-repr-fallback {display: none;}</style><div id=\"sk-container-id-1\" class=\"sk-top-container\"><div class=\"sk-text-repr-fallback\"><pre>KNeighborsClassifier(metric=&#x27;euclidean&#x27;, n_neighbors=6)</pre><b>In a Jupyter environment, please rerun this cell to show the HTML representation or trust the notebook. <br />On GitHub, the HTML representation is unable to render, please try loading this page with nbviewer.org.</b></div><div class=\"sk-container\" hidden><div class=\"sk-item\"><div class=\"sk-estimator sk-toggleable\"><input class=\"sk-toggleable__control sk-hidden--visually\" id=\"sk-estimator-id-1\" type=\"checkbox\" checked><label for=\"sk-estimator-id-1\" class=\"sk-toggleable__label sk-toggleable__label-arrow\">KNeighborsClassifier</label><div class=\"sk-toggleable__content\"><pre>KNeighborsClassifier(metric=&#x27;euclidean&#x27;, n_neighbors=6)</pre></div></div></div></div></div>"
            ]
          },
          "metadata": {},
          "execution_count": 20
        }
      ]
    },
    {
      "cell_type": "code",
      "source": [
        "y_pred = knn.predict(X_test_scaled)\n",
        "knn.score(X_test_scaled, y_test)"
      ],
      "metadata": {
        "colab": {
          "base_uri": "https://localhost:8080/"
        },
        "id": "HiQZX_bt3bOP",
        "outputId": "d42f8cad-d78d-4189-e0f3-71125cec3de0"
      },
      "execution_count": 21,
      "outputs": [
        {
          "output_type": "execute_result",
          "data": {
            "text/plain": [
              "0.9454545454545454"
            ]
          },
          "metadata": {},
          "execution_count": 21
        }
      ]
    },
    {
      "cell_type": "code",
      "source": [],
      "metadata": {
        "id": "uAJ1Ukk5-yci"
      },
      "execution_count": 21,
      "outputs": []
    },
    {
      "cell_type": "code",
      "source": [
        "x_q = [X_test[50]]\n",
        "y_q = y_test[50]\n",
        "print(x_q)\n",
        "print(y_q)\n",
        "print(knn.predict(x_q))\n",
        "print(knn.predict_proba(x_q))\n",
        "print(knn.kneighbors(x_q))"
      ],
      "metadata": {
        "colab": {
          "base_uri": "https://localhost:8080/"
        },
        "id": "w-kjTqIs3bMC",
        "outputId": "625d198c-93f1-45bf-b887-74aa1ce30bb7"
      },
      "execution_count": 22,
      "outputs": [
        {
          "output_type": "stream",
          "name": "stdout",
          "text": [
            "[array([0.12263833, 1.24645031])]\n",
            "2\n",
            "[2]\n",
            "[[0. 1. 0.]]\n",
            "(array([[0.18070887, 0.32677292, 0.39396904, 0.41363633, 0.53038291,\n",
            "        0.58371316]]), array([[101, 176, 108,  30, 130,  52]]))\n"
          ]
        }
      ]
    },
    {
      "cell_type": "code",
      "source": [
        "import matplotlib.pyplot as plt\n",
        "# https://scikit-learn.org/stable/modules/generated/sklearn.inspection.DecisionBoundaryDisplay.html\n",
        "from sklearn.inspection import DecisionBoundaryDisplay\n",
        "# Plotting the boundaries\n",
        "disp = DecisionBoundaryDisplay.from_estimator(knn,\n",
        "                                              X_train,\n",
        "                                              response_method=\"predict\",\n",
        "                                              xlabel='f1', ylabel='f2',\n",
        "                                              cmap=plt.cm.coolwarm)\n",
        "\n",
        "# Plotting the data points\n",
        "disp.ax_.scatter(X_train[:, 0], X_train[:, 1],\n",
        "                 c=y_train, edgecolor=\"k\",\n",
        "                 cmap=plt.cm.coolwarm)\n",
        "\n",
        "plt.show()"
      ],
      "metadata": {
        "colab": {
          "base_uri": "https://localhost:8080/",
          "height": 54
        },
        "id": "_KZ4mANWQXsk",
        "outputId": "a0bb2191-aadb-4259-9408-b5042e6765b3"
      },
      "execution_count": 23,
      "outputs": [
        {
          "output_type": "display_data",
          "data": {
            "text/plain": [
              "<Figure size 640x480 with 1 Axes>"
            ],
            "image/png": "[encoded data removed]"
          },
          "metadata": {}
        }
      ]
    },
    {
      "cell_type": "code",
      "source": [
        "from sklearn.metrics import classification_report, confusion_matrix,ConfusionMatrixDisplay\n",
        "\n",
        "print(classification_report(y_test, y_pred))\n",
        "ConfusionMatrixDisplay(classification_report(y_test, y_pred))\n",
        "plt.show()"
      ],
      "metadata": {
        "colab": {
          "base_uri": "https://localhost:8080/"
        },
        "id": "VJ6AfRwgQdqi",
        "outputId": "791d5aa8-e55d-4d50-e31e-901973f25820"
      },
      "execution_count": 24,
      "outputs": [
        {
          "output_type": "stream",
          "name": "stdout",
          "text": [
            "              precision    recall  f1-score   support\n",
            "\n",
            "           1       0.86      0.90      0.88        20\n",
            "           2       0.98      0.91      0.95        47\n",
            "           3       0.96      1.00      0.98        43\n",
            "\n",
            "    accuracy                           0.95       110\n",
            "   macro avg       0.93      0.94      0.93       110\n",
            "weighted avg       0.95      0.95      0.95       110\n",
            "\n"
          ]
        }
      ]
    },
    {
      "cell_type": "markdown",
      "source": [
        "### kNN Imputation"
      ],
      "metadata": {
        "id": "jl14pY1sQvAh"
      }
    },
    {
      "cell_type": "code",
      "source": [
        "!gdown 1vDIXh1yJxLpmgdh3gZGM6WX0u3GCPuIS\n",
        "\n",
        "df_imp = pd.read_csv('knn_imputation.csv')\n",
        "df_imp.drop(['Unnamed: 0'],axis=1,inplace=True)\n",
        "print(df_imp.shape)\n",
        "df_imp.head()"
      ],
      "metadata": {
        "colab": {
          "base_uri": "https://localhost:8080/",
          "height": 309
        },
        "id": "67QkNqE8QgAz",
        "outputId": "91db6bb3-0e67-429c-8813-6a3ca55a1e77"
      },
      "execution_count": 25,
      "outputs": [
        {
          "output_type": "stream",
          "name": "stdout",
          "text": [
            "Downloading...\n",
            "From: https://drive.google.com/uc?id=1vDIXh1yJxLpmgdh3gZGM6WX0u3GCPuIS\n",
            "To: /content/knn_imputation.csv\n",
            "\r  0% 0.00/12.9k [00:00<?, ?B/s]\r100% 12.9k/12.9k [00:00<00:00, 28.5MB/s]\n",
            "(267, 7)\n"
          ]
        },
        {
          "output_type": "execute_result",
          "data": {
            "text/plain": [
              "   Region    Fresh    Milk  Grocery  Frozen  Detergents_Paper  Delicassen\n",
              "0     3.0  12669.0  9656.0   7561.0   214.0            2674.0      1338.0\n",
              "1     3.0   7057.0  9810.0   9568.0  1762.0            3293.0      1776.0\n",
              "2     3.0   6353.0  8808.0      NaN  2405.0            3516.0      7844.0\n",
              "3     3.0  13265.0  1196.0   4221.0  6404.0             507.0      1788.0\n",
              "4     3.0  22615.0  5410.0   7198.0  3915.0            1777.0      5185.0"
            ],
            "text/html": [
              "\n",
              "  <div id=\"df-ea0eee14-9d37-47b4-a0a8-6a0d062ac47d\" class=\"colab-df-container\">\n",
              "    <div>\n",
              "<style scoped>\n",
              "    .dataframe tbody tr th:only-of-type {\n",
              "        vertical-align: middle;\n",
              "    }\n",
              "\n",
              "    .dataframe tbody tr th {\n",
              "        vertical-align: top;\n",
              "    }\n",
              "\n",
              "    .dataframe thead th {\n",
              "        text-align: right;\n",
              "    }\n",
              "</style>\n",
              "<table border=\"1\" class=\"dataframe\">\n",
              "  <thead>\n",
              "    <tr style=\"text-align: right;\">\n",
              "      <th></th>\n",
              "      <th>Region</th>\n",
              "      <th>Fresh</th>\n",
              "      <th>Milk</th>\n",
              "      <th>Grocery</th>\n",
              "      <th>Frozen</th>\n",
              "      <th>Detergents_Paper</th>\n",
              "      <th>Delicassen</th>\n",
              "    </tr>\n",
              "  </thead>\n",
              "  <tbody>\n",
              "    <tr>\n",
              "      <th>0</th>\n",
              "      <td>3.0</td>\n",
              "      <td>12669.0</td>\n",
              "      <td>9656.0</td>\n",
              "      <td>7561.0</td>\n",
              "      <td>214.0</td>\n",
              "      <td>2674.0</td>\n",
              "      <td>1338.0</td>\n",
              "    </tr>\n",
              "    <tr>\n",
              "      <th>1</th>\n",
              "      <td>3.0</td>\n",
              "      <td>7057.0</td>\n",
              "      <td>9810.0</td>\n",
              "      <td>9568.0</td>\n",
              "      <td>1762.0</td>\n",
              "      <td>3293.0</td>\n",
              "      <td>1776.0</td>\n",
              "    </tr>\n",
              "    <tr>\n",
              "      <th>2</th>\n",
              "      <td>3.0</td>\n",
              "      <td>6353.0</td>\n",
              "      <td>8808.0</td>\n",
              "      <td>NaN</td>\n",
              "      <td>2405.0</td>\n",
              "      <td>3516.0</td>\n",
              "      <td>7844.0</td>\n",
              "    </tr>\n",
              "    <tr>\n",
              "      <th>3</th>\n",
              "      <td>3.0</td>\n",
              "      <td>13265.0</td>\n",
              "      <td>1196.0</td>\n",
              "      <td>4221.0</td>\n",
              "      <td>6404.0</td>\n",
              "      <td>507.0</td>\n",
              "      <td>1788.0</td>\n",
              "    </tr>\n",
              "    <tr>\n",
              "      <th>4</th>\n",
              "      <td>3.0</td>\n",
              "      <td>22615.0</td>\n",
              "      <td>5410.0</td>\n",
              "      <td>7198.0</td>\n",
              "      <td>3915.0</td>\n",
              "      <td>1777.0</td>\n",
              "      <td>5185.0</td>\n",
              "    </tr>\n",
              "  </tbody>\n",
              "</table>\n",
              "</div>\n",
              "    <div class=\"colab-df-buttons\">\n",
              "\n",
              "  <div class=\"colab-df-container\">\n",
              "    <button class=\"colab-df-convert\" onclick=\"convertToInteractive('df-ea0eee14-9d37-47b4-a0a8-6a0d062ac47d')\"\n",
              "            title=\"Convert this dataframe to an interactive table.\"\n",
              "            style=\"display:none;\">\n",
              "\n",
              "  <svg xmlns=\"http://www.w3.org/2000/svg\" height=\"24px\" viewBox=\"0 -960 960 960\">\n",
              "    <path d=\"M120-120v-720h720v720H120Zm60-500h600v-160H180v160Zm220 220h160v-160H400v160Zm0 220h160v-160H400v160ZM180-400h160v-160H180v160Zm440 0h160v-160H620v160ZM180-180h160v-160H180v160Zm440 0h160v-160H620v160Z\"/>\n",
              "  </svg>\n",
              "    </button>\n",
              "\n",
              "  <style>\n",
              "    .colab-df-container {\n",
              "      display:flex;\n",
              "      gap: 12px;\n",
              "    }\n",
              "\n",
              "    .colab-df-convert {\n",
              "      background-color: #E8F0FE;\n",
              "      border: none;\n",
              "      border-radius: 50%;\n",
              "      cursor: pointer;\n",
              "      display: none;\n",
              "      fill: #1967D2;\n",
              "      height: 32px;\n",
              "      padding: 0 0 0 0;\n",
              "      width: 32px;\n",
              "    }\n",
              "\n",
              "    .colab-df-convert:hover {\n",
              "      background-color: #E2EBFA;\n",
              "      box-shadow: 0px 1px 2px rgba(60, 64, 67, 0.3), 0px 1px 3px 1px rgba(60, 64, 67, 0.15);\n",
              "      fill: #174EA6;\n",
              "    }\n",
              "\n",
              "    .colab-df-buttons div {\n",
              "      margin-bottom: 4px;\n",
              "    }\n",
              "\n",
              "    [theme=dark] .colab-df-convert {\n",
              "      background-color: #3B4455;\n",
              "      fill: #D2E3FC;\n",
              "    }\n",
              "\n",
              "    [theme=dark] .colab-df-convert:hover {\n",
              "      background-color: #434B5C;\n",
              "      box-shadow: 0px 1px 3px 1px rgba(0, 0, 0, 0.15);\n",
              "      filter: drop-shadow(0px 1px 2px rgba(0, 0, 0, 0.3));\n",
              "      fill: #FFFFFF;\n",
              "    }\n",
              "  </style>\n",
              "\n",
              "    <script>\n",
              "      const buttonEl =\n",
              "        document.querySelector('#df-ea0eee14-9d37-47b4-a0a8-6a0d062ac47d button.colab-df-convert');\n",
              "      buttonEl.style.display =\n",
              "        google.colab.kernel.accessAllowed ? 'block' : 'none';\n",
              "\n",
              "      async function convertToInteractive(key) {\n",
              "        const element = document.querySelector('#df-ea0eee14-9d37-47b4-a0a8-6a0d062ac47d');\n",
              "        const dataTable =\n",
              "          await google.colab.kernel.invokeFunction('convertToInteractive',\n",
              "                                                    [key], {});\n",
              "        if (!dataTable) return;\n",
              "\n",
              "        const docLinkHtml = 'Like what you see? Visit the ' +\n",
              "          '<a target=\"_blank\" href=https://colab.research.google.com/notebooks/data_table.ipynb>data table notebook</a>'\n",
              "          + ' to learn more about interactive tables.';\n",
              "        element.innerHTML = '';\n",
              "        dataTable['output_type'] = 'display_data';\n",
              "        await google.colab.output.renderOutput(dataTable, element);\n",
              "        const docLink = document.createElement('div');\n",
              "        docLink.innerHTML = docLinkHtml;\n",
              "        element.appendChild(docLink);\n",
              "      }\n",
              "    </script>\n",
              "  </div>\n",
              "\n",
              "\n",
              "<div id=\"df-170e9251-bce5-4491-9e61-34f3676adc49\">\n",
              "  <button class=\"colab-df-quickchart\" onclick=\"quickchart('df-170e9251-bce5-4491-9e61-34f3676adc49')\"\n",
              "            title=\"Suggest charts\"\n",
              "            style=\"display:none;\">\n",
              "\n",
              "<svg xmlns=\"http://www.w3.org/2000/svg\" height=\"24px\"viewBox=\"0 0 24 24\"\n",
              "     width=\"24px\">\n",
              "    <g>\n",
              "        <path d=\"M19 3H5c-1.1 0-2 .9-2 2v14c0 1.1.9 2 2 2h14c1.1 0 2-.9 2-2V5c0-1.1-.9-2-2-2zM9 17H7v-7h2v7zm4 0h-2V7h2v10zm4 0h-2v-4h2v4z\"/>\n",
              "    </g>\n",
              "</svg>\n",
              "  </button>\n",
              "\n",
              "<style>\n",
              "  .colab-df-quickchart {\n",
              "      --bg-color: #E8F0FE;\n",
              "      --fill-color: #1967D2;\n",
              "      --hover-bg-color: #E2EBFA;\n",
              "      --hover-fill-color: #174EA6;\n",
              "      --disabled-fill-color: #AAA;\n",
              "      --disabled-bg-color: #DDD;\n",
              "  }\n",
              "\n",
              "  [theme=dark] .colab-df-quickchart {\n",
              "      --bg-color: #3B4455;\n",
              "      --fill-color: #D2E3FC;\n",
              "      --hover-bg-color: #434B5C;\n",
              "      --hover-fill-color: #FFFFFF;\n",
              "      --disabled-bg-color: #3B4455;\n",
              "      --disabled-fill-color: #666;\n",
              "  }\n",
              "\n",
              "  .colab-df-quickchart {\n",
              "    background-color: var(--bg-color);\n",
              "    border: none;\n",
              "    border-radius: 50%;\n",
              "    cursor: pointer;\n",
              "    display: none;\n",
              "    fill: var(--fill-color);\n",
              "    height: 32px;\n",
              "    padding: 0;\n",
              "    width: 32px;\n",
              "  }\n",
              "\n",
              "  .colab-df-quickchart:hover {\n",
              "    background-color: var(--hover-bg-color);\n",
              "    box-shadow: 0 1px 2px rgba(60, 64, 67, 0.3), 0 1px 3px 1px rgba(60, 64, 67, 0.15);\n",
              "    fill: var(--button-hover-fill-color);\n",
              "  }\n",
              "\n",
              "  .colab-df-quickchart-complete:disabled,\n",
              "  .colab-df-quickchart-complete:disabled:hover {\n",
              "    background-color: var(--disabled-bg-color);\n",
              "    fill: var(--disabled-fill-color);\n",
              "    box-shadow: none;\n",
              "  }\n",
              "\n",
              "  .colab-df-spinner {\n",
              "    border: 2px solid var(--fill-color);\n",
              "    border-color: transparent;\n",
              "    border-bottom-color: var(--fill-color);\n",
              "    animation:\n",
              "      spin 1s steps(1) infinite;\n",
              "  }\n",
              "\n",
              "  @keyframes spin {\n",
              "    0% {\n",
              "      border-color: transparent;\n",
              "      border-bottom-color: var(--fill-color);\n",
              "      border-left-color: var(--fill-color);\n",
              "    }\n",
              "    20% {\n",
              "      border-color: transparent;\n",
              "      border-left-color: var(--fill-color);\n",
              "      border-top-color: var(--fill-color);\n",
              "    }\n",
              "    30% {\n",
              "      border-color: transparent;\n",
              "      border-left-color: var(--fill-color);\n",
              "      border-top-color: var(--fill-color);\n",
              "      border-right-color: var(--fill-color);\n",
              "    }\n",
              "    40% {\n",
              "      border-color: transparent;\n",
              "      border-right-color: var(--fill-color);\n",
              "      border-top-color: var(--fill-color);\n",
              "    }\n",
              "    60% {\n",
              "      border-color: transparent;\n",
              "      border-right-color: var(--fill-color);\n",
              "    }\n",
              "    80% {\n",
              "      border-color: transparent;\n",
              "      border-right-color: var(--fill-color);\n",
              "      border-bottom-color: var(--fill-color);\n",
              "    }\n",
              "    90% {\n",
              "      border-color: transparent;\n",
              "      border-bottom-color: var(--fill-color);\n",
              "    }\n",
              "  }\n",
              "</style>\n",
              "\n",
              "  <script>\n",
              "    async function quickchart(key) {\n",
              "      const quickchartButtonEl =\n",
              "        document.querySelector('#' + key + ' button');\n",
              "      quickchartButtonEl.disabled = true;  // To prevent multiple clicks.\n",
              "      quickchartButtonEl.classList.add('colab-df-spinner');\n",
              "      try {\n",
              "        const charts = await google.colab.kernel.invokeFunction(\n",
              "            'suggestCharts', [key], {});\n",
              "      } catch (error) {\n",
              "        console.error('Error during call to suggestCharts:', error);\n",
              "      }\n",
              "      quickchartButtonEl.classList.remove('colab-df-spinner');\n",
              "      quickchartButtonEl.classList.add('colab-df-quickchart-complete');\n",
              "    }\n",
              "    (() => {\n",
              "      let quickchartButtonEl =\n",
              "        document.querySelector('#df-170e9251-bce5-4491-9e61-34f3676adc49 button');\n",
              "      quickchartButtonEl.style.display =\n",
              "        google.colab.kernel.accessAllowed ? 'block' : 'none';\n",
              "    })();\n",
              "  </script>\n",
              "</div>\n",
              "\n",
              "    </div>\n",
              "  </div>\n"
            ]
          },
          "metadata": {},
          "execution_count": 25
        }
      ]
    },
    {
      "cell_type": "code",
      "source": [
        "df_imp.isna().sum()"
      ],
      "metadata": {
        "colab": {
          "base_uri": "https://localhost:8080/"
        },
        "id": "KW4quzezQ8zi",
        "outputId": "1886b3b6-fa67-49a8-f3b0-f4c6486d1466"
      },
      "execution_count": 26,
      "outputs": [
        {
          "output_type": "execute_result",
          "data": {
            "text/plain": [
              "Region               8\n",
              "Fresh               13\n",
              "Milk                15\n",
              "Grocery              9\n",
              "Frozen               8\n",
              "Detergents_Paper    10\n",
              "Delicassen          11\n",
              "dtype: int64"
            ]
          },
          "metadata": {},
          "execution_count": 26
        }
      ]
    },
    {
      "cell_type": "code",
      "source": [
        "from sklearn.pipeline import Pipeline\n",
        "from sklearn.impute import KNNImputer\n",
        "from sklearn.preprocessing import StandardScaler\n",
        "\n",
        "# Create the pipeline\n",
        "pipeline = Pipeline([\n",
        "    ('scaler', StandardScaler()),  # Step 1: StandardScaler for feature scaling\n",
        "    ('imputer', KNNImputer(n_neighbors=6))  # Step 2: KNNImputer for missing value imputation\n",
        "])\n",
        "\n",
        "# Fit and transform the data using the pipeline\n",
        "X_transformed = pipeline.fit_transform(df_imp)\n",
        "\n",
        "# Creating dataframe\n",
        "X_transformed = pd.DataFrame(X_transformed,columns=df_imp.columns)\n",
        "\n",
        "X_transformed.head()"
      ],
      "metadata": {
        "colab": {
          "base_uri": "https://localhost:8080/",
          "height": 224
        },
        "id": "Mw1lJKwIQ8wg",
        "outputId": "2639dfeb-dbcc-4c25-e301-f419d556608c"
      },
      "execution_count": 27,
      "outputs": [
        {
          "output_type": "execute_result",
          "data": {
            "text/plain": [
              "     Region     Fresh      Milk   Grocery    Frozen  Detergents_Paper  \\\n",
              "0  0.555438 -0.233395  0.187310 -0.319038 -0.554681         -0.272830   \n",
              "1  0.555438 -0.616431  0.204632 -0.139260 -0.281917         -0.165147   \n",
              "2  0.555438 -0.664481  0.091925  0.070736 -0.168617         -0.126353   \n",
              "3  0.555438 -0.192716 -0.764292 -0.618222  0.536025         -0.649809   \n",
              "4  0.555438  0.445450 -0.290291 -0.351554  0.097452         -0.428875   \n",
              "\n",
              "   Delicassen  \n",
              "0   -0.175386  \n",
              "1   -0.051741  \n",
              "2    1.661231  \n",
              "3   -0.048353  \n",
              "4    0.910606  "
            ],
            "text/html": [
              "\n",
              "  <div id=\"df-8c14f779-aa01-4d83-8173-38e72ce309ab\" class=\"colab-df-container\">\n",
              "    <div>\n",
              "<style scoped>\n",
              "    .dataframe tbody tr th:only-of-type {\n",
              "        vertical-align: middle;\n",
              "    }\n",
              "\n",
              "    .dataframe tbody tr th {\n",
              "        vertical-align: top;\n",
              "    }\n",
              "\n",
              "    .dataframe thead th {\n",
              "        text-align: right;\n",
              "    }\n",
              "</style>\n",
              "<table border=\"1\" class=\"dataframe\">\n",
              "  <thead>\n",
              "    <tr style=\"text-align: right;\">\n",
              "      <th></th>\n",
              "      <th>Region</th>\n",
              "      <th>Fresh</th>\n",
              "      <th>Milk</th>\n",
              "      <th>Grocery</th>\n",
              "      <th>Frozen</th>\n",
              "      <th>Detergents_Paper</th>\n",
              "      <th>Delicassen</th>\n",
              "    </tr>\n",
              "  </thead>\n",
              "  <tbody>\n",
              "    <tr>\n",
              "      <th>0</th>\n",
              "      <td>0.555438</td>\n",
              "      <td>-0.233395</td>\n",
              "      <td>0.187310</td>\n",
              "      <td>-0.319038</td>\n",
              "      <td>-0.554681</td>\n",
              "      <td>-0.272830</td>\n",
              "      <td>-0.175386</td>\n",
              "    </tr>\n",
              "    <tr>\n",
              "      <th>1</th>\n",
              "      <td>0.555438</td>\n",
              "      <td>-0.616431</td>\n",
              "      <td>0.204632</td>\n",
              "      <td>-0.139260</td>\n",
              "      <td>-0.281917</td>\n",
              "      <td>-0.165147</td>\n",
              "      <td>-0.051741</td>\n",
              "    </tr>\n",
              "    <tr>\n",
              "      <th>2</th>\n",
              "      <td>0.555438</td>\n",
              "      <td>-0.664481</td>\n",
              "      <td>0.091925</td>\n",
              "      <td>0.070736</td>\n",
              "      <td>-0.168617</td>\n",
              "      <td>-0.126353</td>\n",
              "      <td>1.661231</td>\n",
              "    </tr>\n",
              "    <tr>\n",
              "      <th>3</th>\n",
              "      <td>0.555438</td>\n",
              "      <td>-0.192716</td>\n",
              "      <td>-0.764292</td>\n",
              "      <td>-0.618222</td>\n",
              "      <td>0.536025</td>\n",
              "      <td>-0.649809</td>\n",
              "      <td>-0.048353</td>\n",
              "    </tr>\n",
              "    <tr>\n",
              "      <th>4</th>\n",
              "      <td>0.555438</td>\n",
              "      <td>0.445450</td>\n",
              "      <td>-0.290291</td>\n",
              "      <td>-0.351554</td>\n",
              "      <td>0.097452</td>\n",
              "      <td>-0.428875</td>\n",
              "      <td>0.910606</td>\n",
              "    </tr>\n",
              "  </tbody>\n",
              "</table>\n",
              "</div>\n",
              "    <div class=\"colab-df-buttons\">\n",
              "\n",
              "  <div class=\"colab-df-container\">\n",
              "    <button class=\"colab-df-convert\" onclick=\"convertToInteractive('df-8c14f779-aa01-4d83-8173-38e72ce309ab')\"\n",
              "            title=\"Convert this dataframe to an interactive table.\"\n",
              "            style=\"display:none;\">\n",
              "\n",
              "  <svg xmlns=\"http://www.w3.org/2000/svg\" height=\"24px\" viewBox=\"0 -960 960 960\">\n",
              "    <path d=\"M120-120v-720h720v720H120Zm60-500h600v-160H180v160Zm220 220h160v-160H400v160Zm0 220h160v-160H400v160ZM180-400h160v-160H180v160Zm440 0h160v-160H620v160ZM180-180h160v-160H180v160Zm440 0h160v-160H620v160Z\"/>\n",
              "  </svg>\n",
              "    </button>\n",
              "\n",
              "  <style>\n",
              "    .colab-df-container {\n",
              "      display:flex;\n",
              "      gap: 12px;\n",
              "    }\n",
              "\n",
              "    .colab-df-convert {\n",
              "      background-color: #E8F0FE;\n",
              "      border: none;\n",
              "      border-radius: 50%;\n",
              "      cursor: pointer;\n",
              "      display: none;\n",
              "      fill: #1967D2;\n",
              "      height: 32px;\n",
              "      padding: 0 0 0 0;\n",
              "      width: 32px;\n",
              "    }\n",
              "\n",
              "    .colab-df-convert:hover {\n",
              "      background-color: #E2EBFA;\n",
              "      box-shadow: 0px 1px 2px rgba(60, 64, 67, 0.3), 0px 1px 3px 1px rgba(60, 64, 67, 0.15);\n",
              "      fill: #174EA6;\n",
              "    }\n",
              "\n",
              "    .colab-df-buttons div {\n",
              "      margin-bottom: 4px;\n",
              "    }\n",
              "\n",
              "    [theme=dark] .colab-df-convert {\n",
              "      background-color: #3B4455;\n",
              "      fill: #D2E3FC;\n",
              "    }\n",
              "\n",
              "    [theme=dark] .colab-df-convert:hover {\n",
              "      background-color: #434B5C;\n",
              "      box-shadow: 0px 1px 3px 1px rgba(0, 0, 0, 0.15);\n",
              "      filter: drop-shadow(0px 1px 2px rgba(0, 0, 0, 0.3));\n",
              "      fill: #FFFFFF;\n",
              "    }\n",
              "  </style>\n",
              "\n",
              "    <script>\n",
              "      const buttonEl =\n",
              "        document.querySelector('#df-8c14f779-aa01-4d83-8173-38e72ce309ab button.colab-df-convert');\n",
              "      buttonEl.style.display =\n",
              "        google.colab.kernel.accessAllowed ? 'block' : 'none';\n",
              "\n",
              "      async function convertToInteractive(key) {\n",
              "        const element = document.querySelector('#df-8c14f779-aa01-4d83-8173-38e72ce309ab');\n",
              "        const dataTable =\n",
              "          await google.colab.kernel.invokeFunction('convertToInteractive',\n",
              "                                                    [key], {});\n",
              "        if (!dataTable) return;\n",
              "\n",
              "        const docLinkHtml = 'Like what you see? Visit the ' +\n",
              "          '<a target=\"_blank\" href=https://colab.research.google.com/notebooks/data_table.ipynb>data table notebook</a>'\n",
              "          + ' to learn more about interactive tables.';\n",
              "        element.innerHTML = '';\n",
              "        dataTable['output_type'] = 'display_data';\n",
              "        await google.colab.output.renderOutput(dataTable, element);\n",
              "        const docLink = document.createElement('div');\n",
              "        docLink.innerHTML = docLinkHtml;\n",
              "        element.appendChild(docLink);\n",
              "      }\n",
              "    </script>\n",
              "  </div>\n",
              "\n",
              "\n",
              "<div id=\"df-5d30d2e9-bcab-4a06-9475-bc741887276a\">\n",
              "  <button class=\"colab-df-quickchart\" onclick=\"quickchart('df-5d30d2e9-bcab-4a06-9475-bc741887276a')\"\n",
              "            title=\"Suggest charts\"\n",
              "            style=\"display:none;\">\n",
              "\n",
              "<svg xmlns=\"http://www.w3.org/2000/svg\" height=\"24px\"viewBox=\"0 0 24 24\"\n",
              "     width=\"24px\">\n",
              "    <g>\n",
              "        <path d=\"M19 3H5c-1.1 0-2 .9-2 2v14c0 1.1.9 2 2 2h14c1.1 0 2-.9 2-2V5c0-1.1-.9-2-2-2zM9 17H7v-7h2v7zm4 0h-2V7h2v10zm4 0h-2v-4h2v4z\"/>\n",
              "    </g>\n",
              "</svg>\n",
              "  </button>\n",
              "\n",
              "<style>\n",
              "  .colab-df-quickchart {\n",
              "      --bg-color: #E8F0FE;\n",
              "      --fill-color: #1967D2;\n",
              "      --hover-bg-color: #E2EBFA;\n",
              "      --hover-fill-color: #174EA6;\n",
              "      --disabled-fill-color: #AAA;\n",
              "      --disabled-bg-color: #DDD;\n",
              "  }\n",
              "\n",
              "  [theme=dark] .colab-df-quickchart {\n",
              "      --bg-color: #3B4455;\n",
              "      --fill-color: #D2E3FC;\n",
              "      --hover-bg-color: #434B5C;\n",
              "      --hover-fill-color: #FFFFFF;\n",
              "      --disabled-bg-color: #3B4455;\n",
              "      --disabled-fill-color: #666;\n",
              "  }\n",
              "\n",
              "  .colab-df-quickchart {\n",
              "    background-color: var(--bg-color);\n",
              "    border: none;\n",
              "    border-radius: 50%;\n",
              "    cursor: pointer;\n",
              "    display: none;\n",
              "    fill: var(--fill-color);\n",
              "    height: 32px;\n",
              "    padding: 0;\n",
              "    width: 32px;\n",
              "  }\n",
              "\n",
              "  .colab-df-quickchart:hover {\n",
              "    background-color: var(--hover-bg-color);\n",
              "    box-shadow: 0 1px 2px rgba(60, 64, 67, 0.3), 0 1px 3px 1px rgba(60, 64, 67, 0.15);\n",
              "    fill: var(--button-hover-fill-color);\n",
              "  }\n",
              "\n",
              "  .colab-df-quickchart-complete:disabled,\n",
              "  .colab-df-quickchart-complete:disabled:hover {\n",
              "    background-color: var(--disabled-bg-color);\n",
              "    fill: var(--disabled-fill-color);\n",
              "    box-shadow: none;\n",
              "  }\n",
              "\n",
              "  .colab-df-spinner {\n",
              "    border: 2px solid var(--fill-color);\n",
              "    border-color: transparent;\n",
              "    border-bottom-color: var(--fill-color);\n",
              "    animation:\n",
              "      spin 1s steps(1) infinite;\n",
              "  }\n",
              "\n",
              "  @keyframes spin {\n",
              "    0% {\n",
              "      border-color: transparent;\n",
              "      border-bottom-color: var(--fill-color);\n",
              "      border-left-color: var(--fill-color);\n",
              "    }\n",
              "    20% {\n",
              "      border-color: transparent;\n",
              "      border-left-color: var(--fill-color);\n",
              "      border-top-color: var(--fill-color);\n",
              "    }\n",
              "    30% {\n",
              "      border-color: transparent;\n",
              "      border-left-color: var(--fill-color);\n",
              "      border-top-color: var(--fill-color);\n",
              "      border-right-color: var(--fill-color);\n",
              "    }\n",
              "    40% {\n",
              "      border-color: transparent;\n",
              "      border-right-color: var(--fill-color);\n",
              "      border-top-color: var(--fill-color);\n",
              "    }\n",
              "    60% {\n",
              "      border-color: transparent;\n",
              "      border-right-color: var(--fill-color);\n",
              "    }\n",
              "    80% {\n",
              "      border-color: transparent;\n",
              "      border-right-color: var(--fill-color);\n",
              "      border-bottom-color: var(--fill-color);\n",
              "    }\n",
              "    90% {\n",
              "      border-color: transparent;\n",
              "      border-bottom-color: var(--fill-color);\n",
              "    }\n",
              "  }\n",
              "</style>\n",
              "\n",
              "  <script>\n",
              "    async function quickchart(key) {\n",
              "      const quickchartButtonEl =\n",
              "        document.querySelector('#' + key + ' button');\n",
              "      quickchartButtonEl.disabled = true;  // To prevent multiple clicks.\n",
              "      quickchartButtonEl.classList.add('colab-df-spinner');\n",
              "      try {\n",
              "        const charts = await google.colab.kernel.invokeFunction(\n",
              "            'suggestCharts', [key], {});\n",
              "      } catch (error) {\n",
              "        console.error('Error during call to suggestCharts:', error);\n",
              "      }\n",
              "      quickchartButtonEl.classList.remove('colab-df-spinner');\n",
              "      quickchartButtonEl.classList.add('colab-df-quickchart-complete');\n",
              "    }\n",
              "    (() => {\n",
              "      let quickchartButtonEl =\n",
              "        document.querySelector('#df-5d30d2e9-bcab-4a06-9475-bc741887276a button');\n",
              "      quickchartButtonEl.style.display =\n",
              "        google.colab.kernel.accessAllowed ? 'block' : 'none';\n",
              "    })();\n",
              "  </script>\n",
              "</div>\n",
              "\n",
              "    </div>\n",
              "  </div>\n"
            ]
          },
          "metadata": {},
          "execution_count": 27
        }
      ]
    },
    {
      "cell_type": "code",
      "source": [
        "X_transformed.isna().sum()"
      ],
      "metadata": {
        "colab": {
          "base_uri": "https://localhost:8080/"
        },
        "id": "TWgXOlz1Q8uW",
        "outputId": "ec44c53d-c6cc-49da-90de-d530293559eb"
      },
      "execution_count": 28,
      "outputs": [
        {
          "output_type": "execute_result",
          "data": {
            "text/plain": [
              "Region              0\n",
              "Fresh               0\n",
              "Milk                0\n",
              "Grocery             0\n",
              "Frozen              0\n",
              "Detergents_Paper    0\n",
              "Delicassen          0\n",
              "dtype: int64"
            ]
          },
          "metadata": {},
          "execution_count": 28
        }
      ]
    },
    {
      "cell_type": "markdown",
      "source": [
        "## Assignments"
      ],
      "metadata": {
        "id": "9th5zFM1su_Y"
      }
    },
    {
      "cell_type": "markdown",
      "source": [],
      "metadata": {
        "id": "xzKB0F1ls44r"
      }
    },
    {
      "cell_type": "markdown",
      "source": [
        "### Q1. Cancer or Not\n",
        "You are using k-NN to predict whether a datapoint indicates cancer presence or not. You opt for k=3, and for query point (green).\n",
        "\n",
        "As seen from the figure, blue dots show the absence of cancer and orange ones show the presence of cancer.\n",
        "\n",
        "<img src='https://d2beiqkhq929f0.cloudfront.net/public_assets/assets/000/009/139/original/Screenshot_2022-08-22_at_3.37.21_PM.png?1661162896'>\n",
        "\n",
        "Will it be right to predict that the the query point shows cancer absence? What's the reason for your answer?\n",
        "\n",
        "Will it require changing the distance metric?\n",
        "\n",
        "Note: In the options, Weighted Metric refers to (1 / distance) and distance refers to the distance between query point and datapoints\n",
        "\n",
        "**Options**\n",
        "\n",
        "* No, because the query point is closer to cancer presence datapoint. We can modify the distance metric as weighted metric\n",
        "* Yes, because query point is closer to a cancer datapoint. No need to modify the distance metric here.\n",
        "* No, because the query point is closer to cancer absence datapoint. We can modify the distance metric as weighted metric.\n",
        "* Yes, because the query point is more likely to show cancer absence. No need for modification in the distance metric\n",
        "\n",
        "**Correct Answer**\n",
        "- No, because the query point is closer to cancer presence datapoint. We can modify the distance metric as weighted metric\n",
        "\n",
        "**Explanation**\n",
        "\n",
        "For these, we use weighted knn:\n",
        "\n",
        "- where we divide the distance metric with the inverse of it.\n",
        "- this gives high weightage to datapoints which are closest to the query point and prevents a false prediction\n",
        "- Hence the kNN model here, will be able to predict that the query point has Cancer presence.\n",
        "- Since its closest to two Cancer present datapoint the most"
      ],
      "metadata": {
        "id": "l9RmA7iVsvCc"
      }
    },
    {
      "cell_type": "markdown",
      "source": [
        "### Q2. k Nearest Neighbors\n",
        "Given below are the two plots for two KNN models trained on certain data.\n",
        "\n",
        "<img src='https://d2beiqkhq929f0.cloudfront.net/public_assets/assets/000/008/556/original/Untitled.png?1660150643'>\n",
        "\n",
        "Star in both the plots indicates the query point that we want to classify. In Plot 1, the star is classified into the ' - ' class. While in Plot 2, the star is classified into the ' x ' class. Based on this, which of the following options are true?\n",
        "\n",
        "**Correct Answer**\n",
        "\n",
        "- Plot 1 : k = 1\n",
        "- Plot 2 : k = 1\n",
        "- Plot 1 : k = 3\n",
        "- Plot 2 : k = 3\n",
        "\n",
        "**Explanation**\n",
        "\n",
        "In plot 1, if we set k=1,\n",
        "\n",
        "- one ‘-‘ will be the closest neighbor and hence the query point will be labeled as ‘-‘\n",
        "In plot 1, if we set k=3,\n",
        "\n",
        "- two ‘-‘ and one ‘x’ will be the closest neighbor and hence the query point will be labeled as ‘- ‘\n",
        "In plot 2, if we set k=1,\n",
        "\n",
        "- one ‘x’ will be the closest neighbor and hence the query point will be labeled as ‘x’\n",
        "In plot 2, if we set k=3,\n",
        "\n",
        "- two ‘x’ and one ‘-‘ will be the closest neighbor and hence the query point will be labeled as ‘x’"
      ],
      "metadata": {
        "id": "rdl-t4naBvl4"
      }
    },
    {
      "cell_type": "markdown",
      "source": [
        "### Q3. Nuts and Bolts of KNN\n",
        "What can be said about the training and testing phases of KNN?\n",
        "\n",
        "- K nearest neighbors are searched in the testing phase.\n",
        "\n",
        "- K-NN algorithm does more computation on test time rather than train time.\n",
        "\n",
        "- Euclidean distance between query points and neighbors are calculated in training phase.\n",
        "\n",
        "- In the training phase, data is loaded in the memory.\n",
        "\n",
        "\n",
        "<b> Correct Answer </b>\n",
        "\n",
        "- K nearest neighbors are searched in the testing phase.\n",
        "- K-NN algorithm does more computation on test time rather than train time.\n",
        "- In the training phase, data is loaded in the memory.\n",
        "\n",
        "<b> Explanation </b>\n",
        "\n",
        "The idea of the kNN algorithm is to find\n",
        "\n",
        "- a k-long list of datapoints that are closest to a query datapoint we want to classify.\n",
        "\n",
        "Therefore, the training phase is basically loading of training set into memory which is done in O(1) time,\n",
        "\n",
        "whereas in the testing phase is where\n",
        "\n",
        "- the algorithm looks for k- nearest neighbours using that stored data.\n",
        "- Hence testing phase is computationally expensive than training phase"
      ],
      "metadata": {
        "id": "ZNqiWaEnBviv"
      }
    },
    {
      "cell_type": "markdown",
      "source": [
        "### Q4. Scaling in k-NN\n",
        "Scaling is important in distance-based algorithms like KNN because-\n",
        "\n",
        "- Features with higher magnitude will influence the results more.\n",
        "\n",
        "- Calculation of distances between points are affected by the magnitude of the features.\n",
        "\n",
        "- The data size(number of records) decreases because of scaling.\n",
        "\n",
        "- It prevents in getting negative values of features.\n",
        "\n",
        "<b> Correct Answer </b>\n",
        "\n",
        "- Features with higher magnitude will influence the results more.\n",
        "- Calculation of distances between points are affected by the magnitude of the features.\n",
        "\n",
        "**Explanation**\n",
        "\n",
        "Scaling helps to bring down the large values of the data so that calculation becomes faster.\n",
        "\n",
        "- Hence we cannot say, Scaling brings down the size of the data (number of records).\n",
        "\n",
        "Also since scaling makes the large valued feature be at par with the remaining features,\n",
        "\n",
        "- It reduces the influence of that large valued feature when calculating the distance vector\n",
        "- Since when Calculating the distance, the magnitude of the feature plays an important role as seen in Manhattan, Euclidean and Minkowski distance"
      ],
      "metadata": {
        "id": "yFTB4Gp-Bvfm"
      }
    },
    {
      "cell_type": "markdown",
      "source": [
        "### Q5. Class determination\n",
        "Consider the following figure in which we have got (O) as a query point that we want to classify, and negatives (-) and positives (+) as training records.\n",
        "\n",
        "<img src='https://d2beiqkhq929f0.cloudfront.net/public_assets/assets/000/002/924/original/Untitled.png?1648114723'>\n",
        "\n",
        "What would be the category assigned to the query point, for the values of K = 1, 3, and 5 respectively?\n",
        "\n",
        "- Negative, Positive, Negative\n",
        "- Negative, Negative, Negative\n",
        "- Negative, Negative, Positive\n",
        "- Positive, Negative, Positive\n",
        "\n",
        "**Correct Answer**\n",
        "\n",
        "Negative, Negative, Positive\n",
        "\n",
        "**Explanation**\n",
        "\n",
        "- For k=1:\n",
        "  - Since a ‘-‘ datapoint is the closest to the query point\n",
        "  - The query point will be classfied as negative.\n",
        "\n",
        "- For k=3:\n",
        "\n",
        "  - two ‘-‘ and one ‘+’ datapoints are closest to the query point\n",
        "  - So, the query point will be classified as negative.\n",
        "\n",
        "- For k=5:\n",
        "\n",
        "  - two ‘-‘ and three ‘+’ datapoints are closest to the query point\n",
        "  - Therefore, the query point will be classified as positive."
      ],
      "metadata": {
        "id": "Mb_Nl-EjBvcw"
      }
    },
    {
      "cell_type": "markdown",
      "source": [
        "### Q6. Selecting K\n",
        "The K in K-nearest Neighbors determines the number of features that are important to classify a query point $x_q$\n",
        "\n",
        "Select the correct option based on the statement.\n",
        "\n",
        "- Statement is absolutely correct\n",
        "- Statement is absolutely incorrect\n",
        "- Statement is partially correct\n",
        "- No conclusion can be made\n",
        "\n",
        "**Correct Answer**\n",
        "\n",
        "Statement is absolutely incorrect\n",
        "\n",
        "<b>Explanation</b>\n",
        "\n",
        "k-NN algorithm is used to classify test datapoint based on distance metric,\n",
        "\n",
        "  - is that a test datapoint is classified as Class-1 if there are more number of Class-1 training samples\n",
        "closer to the test datapoint compared to other Classes training samples.\n",
        "\n",
        "For Eg:\n",
        "\n",
        "If value of k = 5 samples, then the 5 closest training samples are selected based on a distance metric\n",
        "\n",
        "  - and then a voting for most number of samples per class is done.\n",
        "\n",
        "So if 3 samples belong to Class-1 and 2 belong to Class-5,\n",
        "\n",
        "  - then that test sample is classified as Class-1 since the majority belongs to Class-1.\n",
        "\n",
        "Hence the value of k indicates the number of training samples that are needed to classify the test sample."
      ],
      "metadata": {
        "id": "locF-7g3BvaK"
      }
    },
    {
      "cell_type": "markdown",
      "source": [
        "### Q1. KNN Bias Variance\n",
        "Following are three graphs where the decision boundary is underfitting, is optimum, and overfitting the training of kdata.\n",
        "\n",
        "<img src='https://d2beiqkhq929f0.cloudfront.net/public_assets/assets/000/002/957/original/Untitled.png?1648214396'>\n",
        "\n",
        "Which of the following could be the values of K for each of the graphs respectively?\n",
        "\n",
        "- 1, 3, 21\n",
        "- 1, 21, 3\n",
        "- 21, 3, 1\n",
        "- 21, 23, 41\n",
        "\n",
        "\n",
        "**Correct Answer**\n",
        "- 21, 3, 1\n",
        "\n",
        "**Explanation**\n",
        "\n",
        "As the value of k decreases, and reaches to 1,\n",
        "\n",
        "- it means that the new data point will consider only one closest neighbor\n",
        "- which will tend the decision boundary to overfit.\n",
        "\n",
        "If we increase the value of k to a large value, the new point will be classified based on more number of data points,\n",
        "\n",
        "- which might consider many +ve and -ve class label datapoints which can turn\n",
        "- make the wrong prediction for the test datapoint\n",
        "- Hence making the model Underfit\n",
        "\n",
        "Though, choosing a right value of k, is often experimental and it varies from data to data.\n",
        "\n",
        "- for this question a K=3 will classify the data accurately"
      ],
      "metadata": {
        "id": "Kp3rKLPtQmbb"
      }
    },
    {
      "cell_type": "markdown",
      "source": [
        "### Q2. KNN Time Complexity\n",
        "What can you conclude about the training time and the testing time complexity of this 1-NN algorithm implemented below, where N is the number of observations, d is the number of features and xq is the query point?\n",
        "\n",
        "<img src= 'https://d2beiqkhq929f0.cloudfront.net/public_assets/assets/000/023/191/original/Screenshot_2023-01-17_at_5.29.45_PM.png?1673955952'>\n",
        "\n",
        "- Training time : O(N* d) ; Testing time : O(1)\n",
        "- Training time : O(1) ; Testing time : O(N)\n",
        "- Training time : O(1) ; Testing time : O(N*d + NlogN)\n",
        "- Training time : O(1) ; Testing time : O(N*d)\n",
        "\n",
        "**Correct Answer:**\n",
        "\n",
        "- Training time : O(1) ; Testing time : O(N*d)\n",
        "\n",
        "**Explanation:**\n",
        "\n",
        "- Technically Training phase of kNN does not exist hence it should have complexity as O(1), the for loop just loads the data into the training function hence we do not consider O(N)\n",
        "\n",
        "- Testing Time Complexity for KNN algorithm is O(Nd+NlogN). Since, in our 1-NN implementation, we are not sorting anything, there will be no Nlog(N), hence time complexity becomes O(N*d)."
      ],
      "metadata": {
        "id": "BMRc3AJxQmYz"
      }
    },
    {
      "cell_type": "markdown",
      "source": [
        "### Q3. Find Optimal K\n",
        "**Problem Description:**\n",
        "\n",
        "Given the training data, find out the best value for K between 1 and 10 (inclusive) for the multiclass classification with KNN.\n",
        "\n",
        "**Input Format:**\n",
        "\n",
        "  1. The first line contains the list of features for all the datapoints.\n",
        "  2. The second line contains the list of class to which the datapoints belong to\n",
        "  3. Finally the list of features of the query point is passed.\n",
        "\n",
        "**Output Format:**\n",
        "\n",
        "Returns the best value of K\n",
        "\n",
        "**Sample Input:**\n",
        "\n",
        "`[[ 0.52, 26. ], [ 5.41, 39. ], [ 2.15, 8. ], [ 6. , 28. ], [ 0.96, 9. ]]\n",
        "[0, 1, 2, 3, 4]\n",
        "[[ 2.22, 21. ]]`\n",
        "\n",
        "**Sample Output:**\n",
        "\n",
        "`2`\n",
        "\n",
        "**Input Explanation:**\n",
        "\n",
        "Data with 2 features and 5 classes are taken as two seperate input list.\n",
        "A query point with two features is also taken as an input.\n",
        "Output Explanation:\n",
        "\n",
        "The optimal value of k = 2 is printed.\n",
        "\n",
        "- After doing all the hyperparameter tuning on the datapoints"
      ],
      "metadata": {
        "id": "vZv_nwGtQmWZ"
      }
    },
    {
      "cell_type": "code",
      "source": [
        "import numpy as np\n",
        "# import kNN model from sklearn\n",
        "from sklearn.neighbors import KNeighborsClassifier\n",
        "\n",
        "X_train = np.asarray(X)\n",
        "y_train = np.asarray(y)\n",
        "\n",
        "def findOptimalK(X_train, y_train, x_q):\n",
        "\n",
        "  error_rate = []\n",
        "  k = []\n",
        "  # define the range to which the value of k should go\n",
        "  for i in range(1,11):\n",
        "    # set the value of k for the model\n",
        "    knn = KNeighborsClassifier(n_neighbors=i)\n",
        "\n",
        "    # fit the model on the training data\n",
        "    knn.fit(X_train, y_train)\n",
        "    # predict for the query point\n",
        "    pred_i = knn.predict(x_q)\n",
        "\n",
        "    # calculates the error of the model\n",
        "    error_rate.append(np.mean(pred_i != y_train))\n",
        "\n",
        "    #add the current value of k\n",
        "    k.append(i)\n",
        "\n",
        "  # find the index of the minimum error\n",
        "  index = np.argmin(error_rate)\n",
        "\n",
        "  # store the best k value which has minimum error\n",
        "  best_k = k[index]\n",
        "  return best_k"
      ],
      "metadata": {
        "id": "y33P2aZTWNlp"
      },
      "execution_count": 34,
      "outputs": []
    },
    {
      "cell_type": "code",
      "source": [
        "X_train = [[ 0.52,  26. ], [ 5.41, 39. ], [ 2.15, 8. ], [ 6. , 28. ], [ 0.96, 9. ], [ 3.48, 10.  ],[ 6.81, 27.  ],[ 5.04,  9.  ],[ 4.44, 20.  ],\n",
        " [ 3.7 , 22.  ],[ 3.7 , 15.  ],[ 1.41, 33.  ], [ 2.44,  3.  ],[ 0.59,  0.  ], [ 5.33, 10.  ]]\n",
        "X_train = np.asarray(X_train)\n",
        "\n",
        "y_train = [0, 1, 2, 1, 2, 0, 1, 0, 3, 0, 2, 1, 0, 5, 0]\n",
        "y_train = np.asarray(y_train)\n",
        "\n",
        "xq =[[ 4.37,  0.  ]]\n",
        "xq = np.asarray(xq)\n",
        "\n",
        "X_train.shape, y_train.shape, xq.shape"
      ],
      "metadata": {
        "colab": {
          "base_uri": "https://localhost:8080/"
        },
        "id": "aOOg4lmIAKFK",
        "outputId": "33dd21e8-97b4-4a97-e29c-0db44eed2764"
      },
      "execution_count": 40,
      "outputs": [
        {
          "output_type": "execute_result",
          "data": {
            "text/plain": [
              "((15, 2), (15,), (1, 2))"
            ]
          },
          "metadata": {},
          "execution_count": 40
        }
      ]
    },
    {
      "cell_type": "code",
      "source": [
        "findOptimalK(X_train, y_train, xq)"
      ],
      "metadata": {
        "colab": {
          "base_uri": "https://localhost:8080/"
        },
        "id": "hxSdPIfAVaHy",
        "outputId": "ad0cdf2b-8b36-4f11-c0df-87989c8e053a"
      },
      "execution_count": 41,
      "outputs": [
        {
          "output_type": "execute_result",
          "data": {
            "text/plain": [
              "1"
            ]
          },
          "metadata": {},
          "execution_count": 41
        }
      ]
    },
    {
      "cell_type": "markdown",
      "source": [
        "### Q4. Manhattan Distance\n",
        "\n",
        "**Problem Description:**\n",
        "\n",
        "Let’s say there is a group of friends living in a city where the distance between two points is always considered as taxicab or manhattan distance. Now we are provided a list of (x,y) coordinates of the houses of all our friends. They are planning to meet each other. They decided to meet but only once as a pair of two by visiting each other’s houses. What will be the total distance covered by all of them?\n",
        "\n",
        "If Sam and Carl have met once, they won't be meeting each other again. Also, if Sam has visited Carl's house and now wants to visit Chris' house next, the distance considered for this visit(Sam to Chris) will be from Sam's house, not from Carl's house.\n",
        "\n",
        "<img src='https://d2beiqkhq929f0.cloudfront.net/public_assets/assets/000/001/842/original/Screenshot_2022-02-04_at_4.07.38_PM.png?1643970970'>\n",
        "\n",
        "The above-given plot shows the names of friends, and also the distance between their houses. Note that, the color of the lines is only shown to mark the distance between two distinct friends. Colors hold no other significance. All the distances are to be calculated as Manhattan distance. Also, the coordinates of friends in the plot are for explanation only.\n",
        "\n",
        "**Input Format**\n",
        "\n",
        "1. Number of testcases\n",
        "2. A list of tuples containing X, Y coordinates\n",
        "\n",
        "**Output Format**\n",
        "\n",
        "Sum of Manhattan Distance between all pairs of cities, a float value.\n",
        "\n",
        "**Example Input**\n",
        "\n",
        "`1`<br>\n",
        "`[(-2.0, 4.0), (1.0, 6.0), (2.0, 3.0), (0.0, 0.0)]`\n",
        "\n",
        "**Example Output**\n",
        "\n",
        "`32.0`\n",
        "\n",
        "**Explanation**\n",
        "\n",
        "- Let's say Sam = ( -2.0, 4.0), Carl = ( 1.0, 6.0 ), Chris= ( 2.0, 3.0 ), and Mark = ( 0.0, 0.0 ) as per the input list.\n",
        "- Distance of Sam, Carl, Chris from Mark are 6.0, 7.0, 5.0 respectively.\n",
        "- Distance of Sam, Carl from Chris are 5.0, 4.0 respectively.\n",
        " -Distance of Sam from Carl is 5.0.\n",
        " -Therefore, total Sum = (6.0+ 7.0+ 5.0) + (5.0+ 4.0) + (5.0) = 32.0\n"
      ],
      "metadata": {
        "id": "RlLcdRAFQmTy"
      }
    },
    {
      "cell_type": "code",
      "source": [
        "def Manhattan_Distance(coordinates):\n",
        "    ''' input: coordinates => list of tuples\n",
        "        output: return updated dist.\n",
        "    '''\n",
        "    dist = 0.0\n",
        "    n = len(coordinates)\n",
        "\n",
        "    # Traverse through the length of the list\n",
        "    for i in range(n):\n",
        "\n",
        "        pivot = coordinates[i]\n",
        "        # Traverse from the next element of the list\n",
        "        for j in range(i+1,n):\n",
        "\n",
        "            # Define the x value of Pivot\n",
        "            pivot_x = coordinates[i][0]\n",
        "            # Define the y value of Pivot\n",
        "            pivot_y = coordinates[i][1]\n",
        "\n",
        "            # Define the x value of next element\n",
        "            new_x = coordinates[j][0]\n",
        "            # Define the y value of next element\n",
        "            new_y = coordinates[j][1]\n",
        "\n",
        "            # # Calculate the Manhattan Distance between the next element and the pivot and it to dist\n",
        "            dist += abs(new_x-pivot_x) + abs(new_y-pivot_y)\n",
        "\n",
        "    return dist"
      ],
      "metadata": {
        "id": "Hn8657i2c28F"
      },
      "execution_count": 63,
      "outputs": []
    },
    {
      "cell_type": "code",
      "source": [
        "coordinates = [(-2.0, 4.0), (1.0, 6.0), (2.0, 3.0), (0.0, 0.0)]\n",
        "Manhattan_Distance(coordinates)"
      ],
      "metadata": {
        "colab": {
          "base_uri": "https://localhost:8080/"
        },
        "id": "9BnXIHB-moIt",
        "outputId": "3cfad846-e5f8-4f2b-b3e9-45de8d0d0b1a"
      },
      "execution_count": 64,
      "outputs": [
        {
          "output_type": "execute_result",
          "data": {
            "text/plain": [
              "32.0"
            ]
          },
          "metadata": {},
          "execution_count": 64
        }
      ]
    },
    {
      "cell_type": "markdown",
      "source": [
        "### Q5. Calculate Distance\n",
        "\n",
        "**Problem Description:**\n",
        "\n",
        "Given some datapoints and a single test query point, calculate:\n",
        "\n",
        "1. Euclidean distance\n",
        "\n",
        "2. Manhattan distance\n",
        "\n",
        "3. Minkowski distance\n",
        "\n",
        "**Input Format:**\n",
        "\n",
        "First line consists of a list of feature of the single Query point\n",
        "The following line consists lists of the datapoints and their features\n",
        "Final line contains the P-value for Minkowski distance\n",
        "\n",
        "**Output Format:**\n",
        "\n",
        "Return the lists of all the distances.\n",
        "NOTE: All the values should be rounded up to 2 decimal places, else it might not accept the solution at run-time.\n",
        "\n",
        "**Sample Input:**\n",
        "\n",
        "```\n",
        "[5,10,15]\n",
        "[[4, 13, 2], [9, 8, 11], [14, 4, 2], [4, 12, 1], [2, 8, 3]]\n",
        "1\n",
        "```\n",
        "\n",
        "**Sample Output:**\n",
        "\n",
        "```\n",
        "[13.38, 6.0, 16.91, 14.18, 12.53]\n",
        "[17.0, 10.0, 28.0, 17.0, 17.0]\n",
        "[17.0, 10.0, 28.0, 17.0, 17.0]\n",
        "```\n",
        "\n",
        "**Output Explanation:**\n",
        "\n",
        "The first line prints the list of Euclidean distance:\n",
        "\n",
        "- For the first datapoint, the Euclidean distance between the query point and this datapoint is calculated as:\n",
        "\n",
        "$$ \\sqrt {(5−4)^2+(10−13)^2 +(15−2)^2} = \\sqrt {179} = 13.38 $$\n",
        "\n",
        "The second line prints the values of Manhattan Distance:\n",
        "\n",
        "- For the 2nd Datapoint, the Manhattan Distance between the query point and this datapoint is calculated as:\n",
        "$$∣(5−9)∣+∣(10−8)∣+∣(15−11)∣=4+2+4=10$$\n",
        "\n",
        "and the third line prints the Minkowski distance between data points and query point:\n",
        "\n",
        "- Since the P=1 , the Minkowski Distance becomes:\n",
        "$$D(x_1,x_2)=(\\sum ∣x_1−x_2∣^p)^{1/p} ​=(∣x_1−x_2∣)$$\n",
        "-This is same as the Manhattan Distance.\n",
        "\n",
        "Hence the list of Manhattan and the Minkowski Distance are exactly identical"
      ],
      "metadata": {
        "id": "Bx6MrvnGQmRM"
      }
    },
    {
      "cell_type": "code",
      "source": [
        "import numpy as np\n",
        "point = [5,10,15]\n",
        "X =[[4, 13, 2], [9, 8, 11], [14, 4, 2], [4, 12, 1], [2, 8, 3]]\n",
        "p = 1\n",
        "\n",
        "point = np.array(point)\n",
        "X = np.asarray(X)\n",
        "\n",
        "def eucildeanDistance():\n",
        "    e_dists  = []\n",
        "    for i in range(len(X)):\n",
        "        s = 0\n",
        "        for j in range(len(point)):\n",
        "            s += (X[i][j]-point[j])**2\n",
        "        e_dists.append(np.round(np.sqrt(s),2))\n",
        "    #CALCULATE EUCLIDEAN DISTANCE\n",
        "    return np.array(e_dists)\n",
        "\n",
        "def manhattanDistance():\n",
        "    mt_dists  = []\n",
        "    for i in range(len(X)):\n",
        "        s = 0\n",
        "        for j in range(len(point)):\n",
        "            s += abs(X[i][j]-point[j])\n",
        "        mt_dists.append(np.round(s,2))\n",
        "    #CALCULATE EUCLIDEAN DISTANCE\n",
        "    return np.array(mt_dists)\n",
        "\n",
        "\n",
        "def minkowskiDistance(p):\n",
        "  #CALCULATE MINKOWSKI DISTANCE\n",
        "    mk_dists  = []\n",
        "    for i in range(len(X)):\n",
        "        s = 0\n",
        "        for j in range(len(point)):\n",
        "            s += (abs(X[i][j]-point[j])**p)\n",
        "        mk_dists.append(np.round(s**(1/p),2))\n",
        "    #CALCULATE EUCLIDEAN DISTANCE\n",
        "    return np.array(mk_dists)\n",
        "\n",
        "print(f'Euclidean Distances:  {eucildeanDistance()}')\n",
        "print(\"Manhattan Distances: \", manhattanDistance())\n",
        "print('Minkowski Distance: ', minkowskiDistance(p))"
      ],
      "metadata": {
        "colab": {
          "base_uri": "https://localhost:8080/"
        },
        "id": "30k_ZJ1fpdOo",
        "outputId": "d24acd3f-51d1-4e46-aa0b-4fa9eef41b3e"
      },
      "execution_count": 75,
      "outputs": [
        {
          "output_type": "stream",
          "name": "stdout",
          "text": [
            "Euclidean Distances:  [13.38  6.   16.91 14.18 12.53]\n",
            "Manhattan Distances:  [17 10 28 17 17]\n",
            "Minkowski Distance:  [17. 10. 28. 17. 17.]\n"
          ]
        }
      ]
    },
    {
      "cell_type": "markdown",
      "source": [
        "### Q6. KNN properties\n",
        "From the mentioned statements which are false?\n",
        "\n",
        "a. If the value of k is very large, datapoints from different classes may be included in the nearest neighborhood.\n",
        "\n",
        "b. If the value of k is very small, the performance may be affected by Outliers.\n",
        "\n",
        "c. K-NN finds the k neighbors that have the least distance from a query point\n",
        "\n",
        "d. The prediction accuracy of classification always increases as the value of k increases.\n",
        "\n",
        "e. The optimal value of k can be found with the help of hyperparameter tuning.\n",
        "\n",
        "**Correct Answer**\n",
        "\n",
        "d. The prediction accuracy of classification always increases as the value of k increases.\n",
        "\n",
        "**Explanation**\n",
        "\n",
        "We know that for a query point,\n",
        "\n",
        "- The kNN model first finds the k nearest neighbors from the query point\n",
        "- By computing the distance between all the datapoints and the query point\n",
        "- And then picking the k datapoints which have the least distance metric\n",
        "- Then finally use the majority voting technique to decide which class label to be assigned to the query point\n",
        "\n",
        "And we also know as the k value is low,\n",
        "\n",
        "- k-NN tends to overfit\n",
        "- therefore will get influenced by the outliers present in the data\n",
        "\n",
        "Also with a high value of k,\n",
        "\n",
        "- kNN model tends to underfit the data, resulting in poor performance of the model\n",
        "- Hence we tend on using hyperparameter tuning technique\n",
        "- In order to find the optimal value of k that gives the best result\n",
        "\n",
        "With this we can say, option d is the False statement here\n",
        "\n",
        "- since an increased k doesn’t always ensure improvement."
      ],
      "metadata": {
        "id": "vB7Bd_TdQmOm"
      }
    },
    {
      "cell_type": "markdown",
      "source": [
        "# Decision Tree"
      ],
      "metadata": {
        "id": "V1OwnHK7stDr"
      }
    },
    {
      "cell_type": "markdown",
      "source": [
        "## Motivation Behind Decision Tree\n",
        "- Decision Tree splits the Data into Homogenous regions with Axis Parallel Decision Boundaries\n",
        "- DT is easily interpretable\n",
        "\n",
        "<img src=\"https://images.datacamp.com/image/upload/v1677504957/decision_tree_for_heart_attack_prevention_2140bd762d.png\">\n",
        "\n",
        "## Entropy\n",
        "- Features and Thresholds to split is decided by infomation gain which comes from calculation of Purity - which comes from entropy (measure of impurity or randomness)\n",
        "\n",
        "$$ Entropy (H(y)) = - \\sum_{i=1}^{k} P(y_i).\\log_2P(y_i) $$; where k is #classes\n",
        "\n",
        "**Entropy for binary class**\n",
        "$$ Entropy for Binary Class = - ( P.log_2P + (1-P).log_2(1-P) ) $$\n",
        "\n",
        "## Information Gain\n",
        "- Reduction in Entropy i.e. $ H(Parent) - H(child) $\n",
        "\n",
        "$$ \\frac{n_1}{n_{total}}H(C_1) + \\frac{n_2}{n_{total}}H(C_2) + ..... + \\frac{n_k}{n_{total}}H(C_k)$$"
      ],
      "metadata": {
        "id": "NoaM-xI_PPVI"
      }
    },
    {
      "cell_type": "markdown",
      "source": [
        "**Example**\n",
        "\n",
        "n=100\n",
        "\n",
        "Parant_F1 (100) - 60,40\n",
        "\n",
        "  - F1- Age; Thres = 30;\n",
        "\n",
        "- Split F1 -> Age < 30\n",
        "\n",
        "- Child\n",
        "  - c1 (60)- 50,10\n",
        "  - c2 (40)- 10, 30\n",
        "\n",
        "- Parant_F2 (100) - 65,35\n",
        "- F2 - Male, Female;\n",
        "- Split F2 -> M,F\n",
        "\n",
        "- Child\n",
        "  - c1 (70)- 50, 20\n",
        "  - c2 (30)- 10, 20"
      ],
      "metadata": {
        "id": "1fj4jKcFVZld"
      }
    },
    {
      "cell_type": "code",
      "source": [
        "import numpy as np\n",
        "\n",
        "# Probs\n",
        "Parant1 = 60/100\n",
        "Parent2 = 65/100\n",
        "F1_P = np.asarray([5/6, 1/4])\n",
        "F2_P = np.asarray([5/7, 1/3])\n",
        "\n",
        "# entropy_parent\n",
        "entropy_P1 = - Parant1 * np.log2(Parant1) - (1-Parant1) * np.log2(1-Parant1)\n",
        "entropy_P2 = - Parent2 * np.log2(Parent2) - (1-Parent2) * np.log2(1-Parent2)\n",
        "print('P1_entropy:',entropy_P1)\n",
        "print('P2_entropy:',entropy_P2)\n",
        "\n",
        "# entropy_child\n",
        "entropy_F1 = - F1_P * np.log2(F1_P) - (1-F1_P) * np.log2(1-F1_P)\n",
        "entropy_F2 = - F2_P * np.log2(F2_P) - (1-F2_P) * np.log2(1-F2_P)\n",
        "\n",
        "print('F1_entropy:',entropy_F1)\n",
        "print('F2_entropy:',entropy_F2)"
      ],
      "metadata": {
        "colab": {
          "base_uri": "https://localhost:8080/"
        },
        "id": "KI5iJJaWUAJX",
        "outputId": "5af88131-f453-4501-8e59-1f767c91a065"
      },
      "execution_count": null,
      "outputs": [
        {
          "output_type": "stream",
          "name": "stdout",
          "text": [
            "P1_entropy: 0.9709505944546686\n",
            "P2_entropy: 0.934068055375491\n",
            "F1_entropy: [0.65002242 0.81127812]\n",
            "F2_entropy: [0.86312057 0.91829583]\n"
          ]
        }
      ]
    },
    {
      "cell_type": "code",
      "source": [
        "# Info gain = Weighted Avg\n",
        "n = 100\n",
        "# F1\n",
        "c1 = 60\n",
        "c2 = 40\n",
        "g1 = (c1/100)*entropy_F1[0] + (c2/100)*entropy_F1[1]\n",
        "\n",
        "# F1\n",
        "c1 = 70\n",
        "c2 = 30\n",
        "g2 = (c1/100)*entropy_F2[0] + (c2/100)*entropy_F2[1]\n",
        "\n",
        "print('Info_gain for F1', entropy_P1 - g1)\n",
        "print('Info_gain for F2', entropy_P2 - g2)"
      ],
      "metadata": {
        "colab": {
          "base_uri": "https://localhost:8080/"
        },
        "id": "tNTsLPD-ZtSk",
        "outputId": "eb5ff6d1-7f04-4cb5-bc5a-8cbbfbe6a41e"
      },
      "execution_count": null,
      "outputs": [
        {
          "output_type": "stream",
          "name": "stdout",
          "text": [
            "Info_gain for F1 0.256425891682003\n",
            "Info_gain for F2 0.054394907162502504\n"
          ]
        }
      ]
    },
    {
      "cell_type": "markdown",
      "source": [
        "## Limitations\n",
        "- Calculation heavy due to log"
      ],
      "metadata": {
        "id": "hdn9j1awPPX4"
      }
    },
    {
      "cell_type": "markdown",
      "source": [
        "# Gini Impurity\n",
        "\n",
        "$$ GI(y) = 1 - \\sum_{i=1}^{k} P(y_i)^2 $$\n",
        "\n",
        "<img src=\"https://www.researchgate.net/profile/Anastasios-Anastasiadis-3/publication/351514990/figure/fig5/AS:1040990244724737@1625202823082/Gini-impurity-and-entropy-for-binary-classification-as-a-function-of-the-percentage-of.png\" >"
      ],
      "metadata": {
        "id": "Oz31I_sYPPbB"
      }
    },
    {
      "cell_type": "markdown",
      "source": [
        "# Pruning and Hyperparameters Tuning\n",
        "\n",
        "As DT is prone to Overfitting (**LOW BIAS AND HIGH VARIANCE**), we apply Pruning to avoid overfitting\n",
        "\n",
        "- max_depth - The maximum depth of the tree.\n",
        "- min_sample_split - The minimum number of samples required to split an internal node\n",
        "- max_sample_leaf - The minimum number of samples required to be at a leaf node. A split point at any depth will only be considered if it leaves at least min_samples_leaf training samples in each of the left and right branches. This may have the effect of smoothing the model, especially in regression.\n",
        "- max_leaf_nodes\n",
        "Grow a tree with max_leaf_nodes in best-first fashion. Best nodes are defined as relative reduction in impurity. If None then unlimited number of leaf nodes."
      ],
      "metadata": {
        "id": "djJhfyNHPPdY"
      }
    },
    {
      "cell_type": "markdown",
      "source": [],
      "metadata": {
        "id": "tmqTH4KxPPgR"
      }
    },
    {
      "cell_type": "markdown",
      "source": [
        "## Note\n",
        "- DT doesn't requires scaling as the split happens on purity i.e. labels prob\n",
        "- Outliers does impact DT"
      ],
      "metadata": {
        "id": "t4ZkRCHYPPjI"
      }
    },
    {
      "cell_type": "markdown",
      "source": [
        "# Feature Importance"
      ],
      "metadata": {
        "id": "0ilQ8rN93F4u"
      }
    },
    {
      "cell_type": "markdown",
      "source": [
        "## Normalised Information Gain\n",
        "\n",
        "In\n",
        "- Information Gain to be consider w.r.t. no. of datapoints (samples)\n",
        "- Feature can be repeated later at any level of the tree\n",
        "\n",
        "Thus, if feature repeated r times in a tree then total IG will be calculated as:\n",
        "\n",
        "$$ IG(f_i) = \\frac{n_1}{n}IG_1 + \\frac{n_2}{n}IG_2 + ........+ \\frac{n_r}{n}IG_r$$"
      ],
      "metadata": {
        "id": "cwhP1yZ9PPl9"
      }
    },
    {
      "cell_type": "code",
      "execution_count": null,
      "metadata": {
        "id": "-ggh-sYrO6DJ"
      },
      "outputs": [],
      "source": []
    }
  ]
}